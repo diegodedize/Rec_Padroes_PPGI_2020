{
 "cells": [
  {
   "cell_type": "markdown",
   "metadata": {},
   "source": [
    "# USP - EACH - Reconhecimento de Padrões - Abril de 2020\n",
    "\n",
    "### CLASSIFICAÇÃO DE MODELOS CARDÍACOS TRIDIMENSIONAIS RELACIONADA À PRESENÇA OU À AUSÊNCIA DE CARDIOMIOPATIA\n",
    "\n",
    "## Grupo 08/H"
   ]
  },
  {
   "cell_type": "markdown",
   "metadata": {},
   "source": [
    "## Seleção de Características\n",
    "### Arquivo de Entrada: Volume_20200414.csv\n",
    "\n",
    "#### Descrição\n",
    "##### Inclusão da coluna Target (Variável dependente Alvo)\n",
    "-- Última Coluna \n",
    "- 0 - Sem Anomalias - até a linha 101 \n",
    "- 1 - Hipertróficos - da 102 até a linha 284 \n",
    "- 2 - Dilatados - a partir da linha 285 inclusive\n",
    "\n",
    "#### Nesta atividade vamos aplicar algumas técnicas de classificação de features (características) com objetivo de\n",
    "#### escolher quais poderiam ser consideradas para treinamentos dos modelos e teste.\n",
    "\n",
    "<br>==================================================================================================================</br>\n"
   ]
  },
  {
   "cell_type": "code",
   "execution_count": 1,
   "metadata": {},
   "outputs": [],
   "source": [
    "import numpy as np\n",
    "import pandas as pd\n",
    "import seaborn as sns\n",
    "import matplotlib.pyplot as plt\n",
    "from sklearn.model_selection import train_test_split\n",
    "from sklearn.ensemble import RandomForestClassifier\n",
    "from sklearn.feature_selection import chi2\n",
    "from sklearn.feature_selection import SelectKBest, SelectPercentile\n",
    "from sklearn.svm import LinearSVC\n",
    "from sklearn.feature_selection import RFE"
   ]
  },
  {
   "cell_type": "code",
   "execution_count": 2,
   "metadata": {},
   "outputs": [
    {
     "name": "stdout",
     "output_type": "stream",
     "text": [
      "****************************\n",
      "**** Dados do DataFrame ****\n",
      "****************************\n",
      "Linhas e Colunas: (400, 3)\n",
      "\n",
      "**** Informações Gerais ****\n",
      "<class 'pandas.core.frame.DataFrame'>\n",
      "RangeIndex: 400 entries, 0 to 399\n",
      "Data columns (total 3 columns):\n",
      "0    400 non-null object\n",
      "1    400 non-null int64\n",
      "2    400 non-null int64\n",
      "dtypes: int64(2), object(1)\n",
      "memory usage: 9.5+ KB\n",
      "None\n",
      "\n",
      "**** Primeiras 5 amostras ****\n",
      "       0    1    2\n",
      "0  id001   74  110\n",
      "1  id002   94  126\n",
      "2  id003   92  157\n",
      "3  id004  106  107\n",
      "4  id005   68   73\n",
      "\n",
      "****Últimas 5 amostras ****\n",
      "         0    1    2\n",
      "395  id396   97  110\n",
      "396  id397  161  298\n",
      "397  id398  176  223\n",
      "398  id399  261  315\n",
      "399  id400  153  254\n",
      "\n"
     ]
    }
   ],
   "source": [
    "# Abertura e informações da Base de Dados\n",
    "\n",
    "df = pd.read_csv('Volume_20200414.csv', header=None)\n",
    "\n",
    "print('****************************')\n",
    "print('**** Dados do DataFrame ****')\n",
    "print('****************************')\n",
    "print(f'Linhas e Colunas: {df.shape}')\n",
    "print('\\n**** Informações Gerais ****')\n",
    "print(df.info())\n",
    "print('\\n**** Primeiras 5 amostras ****')\n",
    "print(df.head())\n",
    "print('\\n****Últimas 5 amostras ****')\n",
    "print(df.tail())\n",
    "print()"
   ]
  },
  {
   "cell_type": "code",
   "execution_count": 3,
   "metadata": {},
   "outputs": [
    {
     "name": "stdout",
     "output_type": "stream",
     "text": [
      "****************************\n",
      "**** Dados do DataFrame ****\n",
      "****************************\n",
      "Linhas e Colunas: (400, 4)\n",
      "\n",
      "**** Informações Gerais ****\n",
      "<class 'pandas.core.frame.DataFrame'>\n",
      "RangeIndex: 400 entries, 0 to 399\n",
      "Data columns (total 4 columns):\n",
      "ID        400 non-null object\n",
      "VOLUME    400 non-null int64\n",
      "MASSA     400 non-null int64\n",
      "TARGET    400 non-null int64\n",
      "dtypes: int64(3), object(1)\n",
      "memory usage: 12.6+ KB\n",
      "None\n",
      "\n",
      "**** Primeiras 5 amostras ****\n",
      "      ID  VOLUME  MASSA  TARGET\n",
      "0  id001      74    110       0\n",
      "1  id002      94    126       0\n",
      "2  id003      92    157       0\n",
      "3  id004     106    107       0\n",
      "4  id005      68     73       0\n",
      "\n",
      "****Últimas 5 amostras ****\n",
      "        ID  VOLUME  MASSA  TARGET\n",
      "395  id396      97    110       2\n",
      "396  id397     161    298       2\n",
      "397  id398     176    223       2\n",
      "398  id399     261    315       2\n",
      "399  id400     153    254       2\n",
      "\n"
     ]
    }
   ],
   "source": [
    "# Inclusão da coluna Target (Variável dependente - alvo)\n",
    "df.loc[:, \"TARGET\"] = int(0)\n",
    "df.loc[0:101, \"TARGET\"] = int(0)\n",
    "df.loc[101:284, \"TARGET\"] = int(1)\n",
    "df.loc[284:, \"TARGET\"] = int(2)\n",
    "\n",
    "# Ajuste do nome das colunas\n",
    "df = df.rename(columns={0: 'ID', 1:'VOLUME', 2:'MASSA'})\n",
    "\n",
    "print('****************************')\n",
    "print('**** Dados do DataFrame ****')\n",
    "print('****************************')\n",
    "print(f'Linhas e Colunas: {df.shape}')\n",
    "print('\\n**** Informações Gerais ****')\n",
    "print(df.info())\n",
    "print('\\n**** Primeiras 5 amostras ****')\n",
    "print(df.head())\n",
    "print('\\n****Últimas 5 amostras ****')\n",
    "print(df.tail())\n",
    "print()"
   ]
  },
  {
   "cell_type": "markdown",
   "metadata": {},
   "source": [
    "<br>==================================================================================================================</br>\n",
    "## Técnica de Verificação: Filtro"
   ]
  },
  {
   "cell_type": "code",
   "execution_count": 4,
   "metadata": {},
   "outputs": [
    {
     "data": {
      "text/html": [
       "<div>\n",
       "<style scoped>\n",
       "    .dataframe tbody tr th:only-of-type {\n",
       "        vertical-align: middle;\n",
       "    }\n",
       "\n",
       "    .dataframe tbody tr th {\n",
       "        vertical-align: top;\n",
       "    }\n",
       "\n",
       "    .dataframe thead th {\n",
       "        text-align: right;\n",
       "    }\n",
       "</style>\n",
       "<table border=\"1\" class=\"dataframe\">\n",
       "  <thead>\n",
       "    <tr style=\"text-align: right;\">\n",
       "      <th></th>\n",
       "      <th>VOLUME</th>\n",
       "      <th>MASSA</th>\n",
       "      <th>TARGET</th>\n",
       "    </tr>\n",
       "  </thead>\n",
       "  <tbody>\n",
       "    <tr>\n",
       "      <th>VOLUME</th>\n",
       "      <td>1.000000</td>\n",
       "      <td>0.116449</td>\n",
       "      <td>0.248043</td>\n",
       "    </tr>\n",
       "    <tr>\n",
       "      <th>MASSA</th>\n",
       "      <td>0.116449</td>\n",
       "      <td>1.000000</td>\n",
       "      <td>0.391880</td>\n",
       "    </tr>\n",
       "    <tr>\n",
       "      <th>TARGET</th>\n",
       "      <td>0.248043</td>\n",
       "      <td>0.391880</td>\n",
       "      <td>1.000000</td>\n",
       "    </tr>\n",
       "  </tbody>\n",
       "</table>\n",
       "</div>"
      ],
      "text/plain": [
       "          VOLUME     MASSA    TARGET\n",
       "VOLUME  1.000000  0.116449  0.248043\n",
       "MASSA   0.116449  1.000000  0.391880\n",
       "TARGET  0.248043  0.391880  1.000000"
      ]
     },
     "execution_count": 4,
     "metadata": {},
     "output_type": "execute_result"
    }
   ],
   "source": [
    "# Método de correlação entre as variáveis\n",
    "df.corr()"
   ]
  },
  {
   "cell_type": "markdown",
   "metadata": {},
   "source": [
    "####\n",
    "## Análise\n",
    "####\n",
    "#### Aplicando um método de correlação, que compara todas as colunas entre sí, e tem como: correlação total 1.00\n",
    "#### correlação negativa total -1.00 e sem correlação 0.00.\n",
    "#### Este método de correlação é baseado em Pearson, mostrando um relacionamento linear entre as variáveis. \n",
    "#### Se houver um relacionamento não-linear, este método pode não ser uma boa medida.\n",
    "#### Observamos que a correlação entre o volume e o Target é positiva, mas baixa.\n",
    "#### A correlação entre a massa e o Target, também, é positiva, e um pouco mais considerável.\n",
    "####"
   ]
  },
  {
   "cell_type": "code",
   "execution_count": 5,
   "metadata": {},
   "outputs": [
    {
     "data": {
      "image/png": "[encoded data removed]",
      "text/plain": [
       "<Figure size 432x288 with 2 Axes>"
      ]
     },
     "metadata": {
      "needs_background": "light"
     },
     "output_type": "display_data"
    }
   ],
   "source": [
    "# Gráfico de Correlação\n",
    "sns.heatmap(df.corr(), annot = True, fmt = '.2f', cmap='Blues')\n",
    "plt.title('Correlação entre variáveis do dataset de Volume')\n",
    "plt.show()"
   ]
  },
  {
   "cell_type": "markdown",
   "metadata": {},
   "source": [
    "### Outra técnica de filtro"
   ]
  },
  {
   "cell_type": "code",
   "execution_count": 8,
   "metadata": {},
   "outputs": [
    {
     "name": "stdout",
     "output_type": "stream",
     "text": [
      "[[110]\n",
      " [126]\n",
      " [157]\n",
      " [107]\n",
      " [ 73]]\n"
     ]
    }
   ],
   "source": [
    "# Verificando a importância das features\n",
    "X = df.iloc[:, 1:3]\n",
    "y = df.iloc[:, 3]\n",
    "\n",
    "# Aplicando o selecionador de features\n",
    "X_novo = SelectKBest(chi2, k=1).fit_transform(X, y)\n",
    "\n",
    "print(X_novo[0:5])"
   ]
  },
  {
   "cell_type": "markdown",
   "metadata": {},
   "source": [
    "####\n",
    "#### Aplicando um método, dentro de uma técnica por camada de seleção de features.\n",
    "#### Observamos que a técnica escolheu a feature Massa como a mais considerável.\n",
    "#### De uma maneira análoga a técnica anterior.\n",
    "#### Como o dataset possui apenas 2 features, escolherá aquele que atingiu um melhor score no teste estatístico\n",
    "#### escolhido (chi2). A parte boa do SelectKBest é que ele funciona para problemas de regressão também, \n",
    "#### com testes estatísticos como f_regression e mutual_info_regression. \n",
    "#### A parte ruim é que escolher o número K ideal é difícil. Muitas das vezes, o valor atribuído é bem empírico, \n",
    "#### mas pode-se tentar contornar isso com o uso do SelectPercentile, que irá selecionar X% das melhores features.\n",
    "####"
   ]
  },
  {
   "cell_type": "code",
   "execution_count": 10,
   "metadata": {},
   "outputs": [
    {
     "name": "stdout",
     "output_type": "stream",
     "text": [
      "\n",
      "Modelo chi2: [2789.62062444 7631.27374448] \n",
      "Coluna de dados escolhida:\n",
      " [[110]\n",
      " [126]\n",
      " [157]\n",
      " [107]\n",
      " [ 73]]\n"
     ]
    }
   ],
   "source": [
    "# Verificando a importância das features\n",
    "X = df.iloc[:, 1:3]\n",
    "y = df.iloc[:, 3]\n",
    "\n",
    "# Aplicando o selecionador de features\n",
    "model = SelectPercentile(chi2, percentile=10)\n",
    "X_novo = model.fit_transform(X, y)\n",
    "print('\\nModelo chi2:', model.scores_, '\\nColuna de dados escolhida:\\n', X_novo[0:5])"
   ]
  },
  {
   "cell_type": "markdown",
   "metadata": {},
   "source": [
    "####\n",
    "#### Verificado que o percentual da coluna massa é maior.\n",
    "####"
   ]
  },
  {
   "cell_type": "markdown",
   "metadata": {},
   "source": [
    "<br>==================================================================================================================</br>\n",
    "## Técnica de Verificação: Embutido"
   ]
  },
  {
   "cell_type": "code",
   "execution_count": 6,
   "metadata": {},
   "outputs": [
    {
     "name": "stderr",
     "output_type": "stream",
     "text": [
      "C:\\ProgramData\\Anaconda3\\lib\\site-packages\\sklearn\\ensemble\\forest.py:246: FutureWarning: The default value of n_estimators will change from 10 in version 0.20 to 100 in 0.22.\n",
      "  \"10 in version 0.20 to 100 in 0.22.\", FutureWarning)\n"
     ]
    },
    {
     "data": {
      "text/plain": [
       "array([0.44985559, 0.55014441])"
      ]
     },
     "execution_count": 6,
     "metadata": {},
     "output_type": "execute_result"
    }
   ],
   "source": [
    "# Verificando a importância das features a partir da aplicação de um modelo (Random Forest / Árvores Randômicas)\n",
    "X = df.iloc[:, 1:3]\n",
    "y = df.iloc[:, 3]\n",
    "\n",
    "# Treinando o modelo na base inteira\n",
    "model  = RandomForestClassifier()\n",
    "model.fit(X, y)\n",
    "\n",
    "# Verificando a importância de cada feature\n",
    "model.feature_importances_"
   ]
  },
  {
   "cell_type": "markdown",
   "metadata": {},
   "source": [
    "####\n",
    "## Análise\n",
    "####\n",
    "#### Aplicando um método, dentro de uma técnica embutida de seleção de features, de Árvores Aleatórias,\n",
    "#### utilizamos a própria estruturação do modelo a importância percentual de cada feature no modelo (soma 100%).\n",
    "#### Observamos que a correlação da massa é um pouco maior que a do volume, para este modelo,\n",
    "#### mas, ainda, baixa.\n",
    "####"
   ]
  },
  {
   "cell_type": "code",
   "execution_count": 7,
   "metadata": {},
   "outputs": [
    {
     "data": {
      "text/plain": [
       "Text(0.5, 1.0, 'Importância de cada feature')"
      ]
     },
     "execution_count": 7,
     "metadata": {},
     "output_type": "execute_result"
    },
    {
     "data": {
      "image/png": "[encoded data removed]",
      "text/plain": [
       "<Figure size 1080x360 with 1 Axes>"
      ]
     },
     "metadata": {
      "needs_background": "light"
     },
     "output_type": "display_data"
    }
   ],
   "source": [
    "# Gráfico\n",
    "plt.figure(figsize=(15, 5))\n",
    "importances = pd.Series(data=model.feature_importances_, index=X.columns)\n",
    "sns.barplot(x=importances, y=importances.index, orient='h').set_title('Importância de cada feature')"
   ]
  },
  {
   "cell_type": "markdown",
   "metadata": {},
   "source": [
    "<br>==================================================================================================================</br>\n",
    "## Técnica de Verificação: Wrapper"
   ]
  },
  {
   "cell_type": "markdown",
   "metadata": {},
   "source": [
    "## Aplicando RFE (Recursive Feature Elimination) \n",
    "### Aqui vamos utilizar o modelo LinearSVC que implementa um algoritmo de classificação, \n",
    "### o SVM (máquina de vetores de suporte)."
   ]
  },
  {
   "cell_type": "code",
   "execution_count": 11,
   "metadata": {},
   "outputs": [
    {
     "name": "stderr",
     "output_type": "stream",
     "text": [
      "C:\\ProgramData\\Anaconda3\\lib\\site-packages\\sklearn\\svm\\base.py:931: ConvergenceWarning: Liblinear failed to converge, increase the number of iterations.\n",
      "  \"the number of iterations.\", ConvergenceWarning)\n",
      "C:\\ProgramData\\Anaconda3\\lib\\site-packages\\sklearn\\svm\\base.py:931: ConvergenceWarning: Liblinear failed to converge, increase the number of iterations.\n",
      "  \"the number of iterations.\", ConvergenceWarning)\n"
     ]
    },
    {
     "name": "stdout",
     "output_type": "stream",
     "text": [
      "Com 1.000 interações:  [ True False]\n",
      "Com 1.000 interações:  [1 2]\n"
     ]
    },
    {
     "name": "stderr",
     "output_type": "stream",
     "text": [
      "C:\\ProgramData\\Anaconda3\\lib\\site-packages\\sklearn\\svm\\base.py:931: ConvergenceWarning: Liblinear failed to converge, increase the number of iterations.\n",
      "  \"the number of iterations.\", ConvergenceWarning)\n"
     ]
    },
    {
     "name": "stdout",
     "output_type": "stream",
     "text": [
      "Com 1.000.000 interações:  [False  True]\n",
      "Com 1.000.000 interações:  [2 1]\n"
     ]
    },
    {
     "name": "stderr",
     "output_type": "stream",
     "text": [
      "C:\\ProgramData\\Anaconda3\\lib\\site-packages\\sklearn\\svm\\base.py:931: ConvergenceWarning: Liblinear failed to converge, increase the number of iterations.\n",
      "  \"the number of iterations.\", ConvergenceWarning)\n"
     ]
    }
   ],
   "source": [
    "# Verificando a importância das features a partir da aplicação de um modelo (Random Forest / Árvores Randômicas)\n",
    "X = df.iloc[:, 1:3]\n",
    "y = df.iloc[:, 3]\n",
    "\n",
    "model = LinearSVC(max_iter=1000)\n",
    "mdrf = RFE(model, step=1)\n",
    "Xrf = mdrf.fit(X, y)\n",
    "\n",
    "print('Com 1.000 interações: ', Xrf.support_)\n",
    "print('Com 1.000 interações: ', Xrf.ranking_)\n",
    "\n",
    "model = LinearSVC(max_iter=1000000)\n",
    "mdrf = RFE(model, step=1)\n",
    "Xrf = mdrf.fit(X, y)\n",
    "\n",
    "print('Com 1.000.000 interações: ', Xrf.support_)\n",
    "print('Com 1.000.000 interações: ', Xrf.ranking_)\n"
   ]
  },
  {
   "cell_type": "markdown",
   "metadata": {},
   "source": [
    "####\n",
    "## Análise\n",
    "####\n",
    "#### Os resultados na aplicação do RFE mudam quando aplicamos menos do que 1.000.000 interações.\n",
    "#### Acima disto a feature escolhida é a massa (como nas técnicas anteriores), mas\n",
    "#### abaixo disto a feature mais considerada é volume e não massa.\n",
    "####"
   ]
  },
  {
   "cell_type": "code",
   "execution_count": null,
   "metadata": {},
   "outputs": [],
   "source": []
  }
 ],
 "metadata": {
  "kernelspec": {
   "display_name": "Python 3",
   "language": "python",
   "name": "python3"
  },
  "language_info": {
   "codemirror_mode": {
    "name": "ipython",
    "version": 3
   },
   "file_extension": ".py",
   "mimetype": "text/x-python",
   "name": "python",
   "nbconvert_exporter": "python",
   "pygments_lexer": "ipython3",
   "version": "3.7.6"
  }
 },
 "nbformat": 4,
 "nbformat_minor": 2
}
