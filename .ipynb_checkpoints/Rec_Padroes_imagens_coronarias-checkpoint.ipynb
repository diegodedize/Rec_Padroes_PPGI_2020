{
 "cells": [
  {
   "cell_type": "markdown",
   "metadata": {},
   "source": [
    "## USP - EACH - SIN5007 - Reconhecimento de Padrões - 1º SEM 2020\n",
    "\n",
    "## Classificação de Modelos cardíacos tridimensionais relacionada à presença ou ausência de cardimiopatia\n",
    "\n",
    "\n",
    "**Grupo H(8):** <br />\n",
    "Diego Dedize <br />\n",
    "Luiz Gustavo Silva <br />\n",
    "Johnny Demetrius <br />\n",
    "Vagner Mendonça Gonçalves <br />\n",
    "\n",
    "version 0.1 - 03/04/2020"
   ]
  },
  {
   "cell_type": "markdown",
   "metadata": {},
   "source": [
    "**Objetivo:** aplicar modelos de classificação  e avaliar os resultados obtidos em um dataset composto por vetores de características extraídas de modelos 3D reconstruídos a partir de exames de Ressonancia Magnética Cardíaca (RMC).\n",
    "\n",
    "**Cardiomiopatia:** quadro clínico dado por uma anormalidade no miocárdio (estrutura muscular do coração) (KUMAR et al., 2010 apud BERGAMASCO, 2018).\n",
    "\n",
    "**Fonte dos dados:** Dataset disponibilizado pelo Laboratório de Aplicações de Informática em Saúde (LApIS) - EACH/USP, coordenado pela Profa. Dra. Fátima L. S. Nunes.\n",
    "\n",
    "**Referências:** <br />\n",
    "BERGAMASCO, Leila Cristina Carneiro. Recuperação de imagens cardíacas tridimensionais por conteúdo. 2013. 134 f. Dissertação (Mestrado em Ciências) - Programa de Pós-graduação em Sistemas de Informação, Escola de Artes, Ciências e Humanidades, Universidade de São Paulo, São Paulo, 2013. \n",
    "\n",
    "BERGAMASCO, Leila Cristina Carneiro. Recuperação de objetos médicos 3D utilizando harmônicos esféricos e redes de fluxo. 2018. 181 f. Tese (Doutorado em Ciências) - Escola Politécnica, Departamento de Engenharia da Computação e Sistemas Digitais, Universidade de São Paulo, São Paulo, 2018.\n",
    "\n",
    "KUMAR, V.; ABBAS, A. K.; FAUSTO, N.; ASTER, J. C.. Robbins & Cotran – Patologia: Bases Patológicas das Doenças. 8 ed. Rio de Janeiro: Elsevier, 2010.\n"
   ]
  },
  {
   "cell_type": "markdown",
   "metadata": {},
   "source": [
    "# Importanto bibliotecas importantes"
   ]
  },
  {
   "cell_type": "code",
   "execution_count": 1,
   "metadata": {},
   "outputs": [],
   "source": [
    "%matplotlib inline\n",
    "import warnings\n",
    "import pandas as pd\n",
    "import numpy as np\n",
    "from sklearn.preprocessing import StandardScaler\n",
    "from sklearn.decomposition import PCA\n",
    "import matplotlib.pyplot as plt\n",
    "import missingno as msno\n",
    "\n",
    "warnings.simplefilter(action='ignore', category=FutureWarning)"
   ]
  },
  {
   "cell_type": "markdown",
   "metadata": {},
   "source": [
    "# Importando arquivo"
   ]
  },
  {
   "cell_type": "code",
   "execution_count": 2,
   "metadata": {},
   "outputs": [
    {
     "data": {
      "text/html": [
       "<div>\n",
       "<style scoped>\n",
       "    .dataframe tbody tr th:only-of-type {\n",
       "        vertical-align: middle;\n",
       "    }\n",
       "\n",
       "    .dataframe tbody tr th {\n",
       "        vertical-align: top;\n",
       "    }\n",
       "\n",
       "    .dataframe thead th {\n",
       "        text-align: right;\n",
       "    }\n",
       "</style>\n",
       "<table border=\"1\" class=\"dataframe\">\n",
       "  <thead>\n",
       "    <tr style=\"text-align: right;\">\n",
       "      <th></th>\n",
       "      <th>0</th>\n",
       "      <th>1</th>\n",
       "      <th>2</th>\n",
       "      <th>3</th>\n",
       "      <th>4</th>\n",
       "      <th>5</th>\n",
       "      <th>6</th>\n",
       "      <th>7</th>\n",
       "      <th>8</th>\n",
       "      <th>9</th>\n",
       "      <th>...</th>\n",
       "      <th>707</th>\n",
       "      <th>708</th>\n",
       "      <th>709</th>\n",
       "      <th>710</th>\n",
       "      <th>711</th>\n",
       "      <th>712</th>\n",
       "      <th>713</th>\n",
       "      <th>714</th>\n",
       "      <th>715</th>\n",
       "      <th>716</th>\n",
       "    </tr>\n",
       "  </thead>\n",
       "  <tbody>\n",
       "    <tr>\n",
       "      <th>0</th>\n",
       "      <td>id001</td>\n",
       "      <td>29</td>\n",
       "      <td>M</td>\n",
       "      <td>-7881.480247</td>\n",
       "      <td>-5759.969698</td>\n",
       "      <td>-24465.608592</td>\n",
       "      <td>-15275.106756</td>\n",
       "      <td>-22974.378070</td>\n",
       "      <td>-22686.138288</td>\n",
       "      <td>-6131.488463</td>\n",
       "      <td>...</td>\n",
       "      <td>NaN</td>\n",
       "      <td>NaN</td>\n",
       "      <td>NaN</td>\n",
       "      <td>NaN</td>\n",
       "      <td>NaN</td>\n",
       "      <td>NaN</td>\n",
       "      <td>NaN</td>\n",
       "      <td>NaN</td>\n",
       "      <td>NaN</td>\n",
       "      <td>0</td>\n",
       "    </tr>\n",
       "    <tr>\n",
       "      <th>1</th>\n",
       "      <td>id002</td>\n",
       "      <td>31</td>\n",
       "      <td>M</td>\n",
       "      <td>-567.772697</td>\n",
       "      <td>-33.292309</td>\n",
       "      <td>-465.179132</td>\n",
       "      <td>-525.981010</td>\n",
       "      <td>-469.546900</td>\n",
       "      <td>-305.182676</td>\n",
       "      <td>-89.243364</td>\n",
       "      <td>...</td>\n",
       "      <td>NaN</td>\n",
       "      <td>NaN</td>\n",
       "      <td>NaN</td>\n",
       "      <td>NaN</td>\n",
       "      <td>NaN</td>\n",
       "      <td>NaN</td>\n",
       "      <td>NaN</td>\n",
       "      <td>NaN</td>\n",
       "      <td>NaN</td>\n",
       "      <td>0</td>\n",
       "    </tr>\n",
       "    <tr>\n",
       "      <th>2</th>\n",
       "      <td>id003</td>\n",
       "      <td>27</td>\n",
       "      <td>M</td>\n",
       "      <td>-135372.767326</td>\n",
       "      <td>-115124.114646</td>\n",
       "      <td>-772665.053883</td>\n",
       "      <td>-292331.423079</td>\n",
       "      <td>-58059.255010</td>\n",
       "      <td>-118464.329594</td>\n",
       "      <td>-585147.837935</td>\n",
       "      <td>...</td>\n",
       "      <td>NaN</td>\n",
       "      <td>NaN</td>\n",
       "      <td>NaN</td>\n",
       "      <td>NaN</td>\n",
       "      <td>NaN</td>\n",
       "      <td>NaN</td>\n",
       "      <td>NaN</td>\n",
       "      <td>NaN</td>\n",
       "      <td>NaN</td>\n",
       "      <td>0</td>\n",
       "    </tr>\n",
       "    <tr>\n",
       "      <th>3</th>\n",
       "      <td>id004</td>\n",
       "      <td>52</td>\n",
       "      <td>M</td>\n",
       "      <td>-582.939571</td>\n",
       "      <td>-366.425893</td>\n",
       "      <td>-281.022452</td>\n",
       "      <td>-437.739821</td>\n",
       "      <td>-206.814933</td>\n",
       "      <td>-230.346112</td>\n",
       "      <td>-126.535277</td>\n",
       "      <td>...</td>\n",
       "      <td>NaN</td>\n",
       "      <td>NaN</td>\n",
       "      <td>NaN</td>\n",
       "      <td>NaN</td>\n",
       "      <td>NaN</td>\n",
       "      <td>NaN</td>\n",
       "      <td>NaN</td>\n",
       "      <td>NaN</td>\n",
       "      <td>NaN</td>\n",
       "      <td>0</td>\n",
       "    </tr>\n",
       "    <tr>\n",
       "      <th>4</th>\n",
       "      <td>id005</td>\n",
       "      <td>56</td>\n",
       "      <td>M</td>\n",
       "      <td>-913.082501</td>\n",
       "      <td>-334.221895</td>\n",
       "      <td>-449.102108</td>\n",
       "      <td>-113.637478</td>\n",
       "      <td>-50.065343</td>\n",
       "      <td>-127.180338</td>\n",
       "      <td>-640.351614</td>\n",
       "      <td>...</td>\n",
       "      <td>NaN</td>\n",
       "      <td>NaN</td>\n",
       "      <td>NaN</td>\n",
       "      <td>NaN</td>\n",
       "      <td>NaN</td>\n",
       "      <td>NaN</td>\n",
       "      <td>NaN</td>\n",
       "      <td>NaN</td>\n",
       "      <td>NaN</td>\n",
       "      <td>0</td>\n",
       "    </tr>\n",
       "  </tbody>\n",
       "</table>\n",
       "<p>5 rows × 717 columns</p>\n",
       "</div>"
      ],
      "text/plain": [
       "     0   1   2              3              4              5              6    \\\n",
       "0  id001  29   M   -7881.480247   -5759.969698  -24465.608592  -15275.106756   \n",
       "1  id002  31   M    -567.772697     -33.292309    -465.179132    -525.981010   \n",
       "2  id003  27   M -135372.767326 -115124.114646 -772665.053883 -292331.423079   \n",
       "3  id004  52   M    -582.939571    -366.425893    -281.022452    -437.739821   \n",
       "4  id005  56   M    -913.082501    -334.221895    -449.102108    -113.637478   \n",
       "\n",
       "            7              8              9    ...  707  708  709  710  711  \\\n",
       "0 -22974.378070  -22686.138288   -6131.488463  ...  NaN  NaN  NaN  NaN  NaN   \n",
       "1   -469.546900    -305.182676     -89.243364  ...  NaN  NaN  NaN  NaN  NaN   \n",
       "2 -58059.255010 -118464.329594 -585147.837935  ...  NaN  NaN  NaN  NaN  NaN   \n",
       "3   -206.814933    -230.346112    -126.535277  ...  NaN  NaN  NaN  NaN  NaN   \n",
       "4    -50.065343    -127.180338    -640.351614  ...  NaN  NaN  NaN  NaN  NaN   \n",
       "\n",
       "   712  713  714  715  716  \n",
       "0  NaN  NaN  NaN  NaN    0  \n",
       "1  NaN  NaN  NaN  NaN    0  \n",
       "2  NaN  NaN  NaN  NaN    0  \n",
       "3  NaN  NaN  NaN  NaN    0  \n",
       "4  NaN  NaN  NaN  NaN    0  \n",
       "\n",
       "[5 rows x 717 columns]"
      ]
     },
     "execution_count": 2,
     "metadata": {},
     "output_type": "execute_result"
    }
   ],
   "source": [
    "\n",
    "df_inicial = pd.read_csv(\"Total_SPHARM_20200326.csv\",header=None)\n",
    "df_inicial.head()"
   ]
  },
  {
   "cell_type": "markdown",
   "metadata": {},
   "source": [
    "# Ajustando cabeçalho"
   ]
  },
  {
   "cell_type": "code",
   "execution_count": 3,
   "metadata": {},
   "outputs": [
    {
     "data": {
      "text/plain": [
       "(400, 717)"
      ]
     },
     "execution_count": 3,
     "metadata": {},
     "output_type": "execute_result"
    }
   ],
   "source": [
    "df_inicial.shape"
   ]
  },
  {
   "cell_type": "code",
   "execution_count": 4,
   "metadata": {},
   "outputs": [
    {
     "data": {
      "text/plain": [
       "Int64Index([  0,   1,   2,   3,   4,   5,   6,   7,   8,   9,\n",
       "            ...\n",
       "            707, 708, 709, 710, 711, 712, 713, 714, 715, 716],\n",
       "           dtype='int64', length=717)"
      ]
     },
     "execution_count": 4,
     "metadata": {},
     "output_type": "execute_result"
    }
   ],
   "source": [
    "df_inicial.columns"
   ]
  },
  {
   "cell_type": "code",
   "execution_count": 5,
   "metadata": {
    "scrolled": true
   },
   "outputs": [
    {
     "data": {
      "text/plain": [
       "['id', 'age', 'sex']"
      ]
     },
     "execution_count": 5,
     "metadata": {},
     "output_type": "execute_result"
    }
   ],
   "source": [
    "colunas_1 =['id','age','sex']\n",
    "colunas_1"
   ]
  },
  {
   "cell_type": "code",
   "execution_count": 6,
   "metadata": {},
   "outputs": [],
   "source": [
    "#Faz loop para nomear coluna de coeficientes harmônicos\n",
    "colunas_2 = []\n",
    "for i in range(1,714):\n",
    "     colunas_2.append(str(i))"
   ]
  },
  {
   "cell_type": "code",
   "execution_count": 7,
   "metadata": {},
   "outputs": [],
   "source": [
    "#Essa é a coluna das classes: Normal, CDM, CMH\n",
    "coluna_3 = ['class_id']"
   ]
  },
  {
   "cell_type": "code",
   "execution_count": 8,
   "metadata": {},
   "outputs": [
    {
     "data": {
      "text/html": [
       "<div>\n",
       "<style scoped>\n",
       "    .dataframe tbody tr th:only-of-type {\n",
       "        vertical-align: middle;\n",
       "    }\n",
       "\n",
       "    .dataframe tbody tr th {\n",
       "        vertical-align: top;\n",
       "    }\n",
       "\n",
       "    .dataframe thead th {\n",
       "        text-align: right;\n",
       "    }\n",
       "</style>\n",
       "<table border=\"1\" class=\"dataframe\">\n",
       "  <thead>\n",
       "    <tr style=\"text-align: right;\">\n",
       "      <th></th>\n",
       "      <th>id</th>\n",
       "      <th>age</th>\n",
       "      <th>sex</th>\n",
       "      <th>1</th>\n",
       "      <th>2</th>\n",
       "      <th>3</th>\n",
       "      <th>4</th>\n",
       "      <th>5</th>\n",
       "      <th>6</th>\n",
       "      <th>7</th>\n",
       "      <th>...</th>\n",
       "      <th>705</th>\n",
       "      <th>706</th>\n",
       "      <th>707</th>\n",
       "      <th>708</th>\n",
       "      <th>709</th>\n",
       "      <th>710</th>\n",
       "      <th>711</th>\n",
       "      <th>712</th>\n",
       "      <th>713</th>\n",
       "      <th>class_id</th>\n",
       "    </tr>\n",
       "  </thead>\n",
       "  <tbody>\n",
       "    <tr>\n",
       "      <th>0</th>\n",
       "      <td>id001</td>\n",
       "      <td>29</td>\n",
       "      <td>M</td>\n",
       "      <td>-7881.480247</td>\n",
       "      <td>-5759.969698</td>\n",
       "      <td>-24465.608592</td>\n",
       "      <td>-15275.106756</td>\n",
       "      <td>-22974.378070</td>\n",
       "      <td>-22686.138288</td>\n",
       "      <td>-6131.488463</td>\n",
       "      <td>...</td>\n",
       "      <td>NaN</td>\n",
       "      <td>NaN</td>\n",
       "      <td>NaN</td>\n",
       "      <td>NaN</td>\n",
       "      <td>NaN</td>\n",
       "      <td>NaN</td>\n",
       "      <td>NaN</td>\n",
       "      <td>NaN</td>\n",
       "      <td>NaN</td>\n",
       "      <td>0</td>\n",
       "    </tr>\n",
       "    <tr>\n",
       "      <th>1</th>\n",
       "      <td>id002</td>\n",
       "      <td>31</td>\n",
       "      <td>M</td>\n",
       "      <td>-567.772697</td>\n",
       "      <td>-33.292309</td>\n",
       "      <td>-465.179132</td>\n",
       "      <td>-525.981010</td>\n",
       "      <td>-469.546900</td>\n",
       "      <td>-305.182676</td>\n",
       "      <td>-89.243364</td>\n",
       "      <td>...</td>\n",
       "      <td>NaN</td>\n",
       "      <td>NaN</td>\n",
       "      <td>NaN</td>\n",
       "      <td>NaN</td>\n",
       "      <td>NaN</td>\n",
       "      <td>NaN</td>\n",
       "      <td>NaN</td>\n",
       "      <td>NaN</td>\n",
       "      <td>NaN</td>\n",
       "      <td>0</td>\n",
       "    </tr>\n",
       "    <tr>\n",
       "      <th>2</th>\n",
       "      <td>id003</td>\n",
       "      <td>27</td>\n",
       "      <td>M</td>\n",
       "      <td>-135372.767326</td>\n",
       "      <td>-115124.114646</td>\n",
       "      <td>-772665.053883</td>\n",
       "      <td>-292331.423079</td>\n",
       "      <td>-58059.255010</td>\n",
       "      <td>-118464.329594</td>\n",
       "      <td>-585147.837935</td>\n",
       "      <td>...</td>\n",
       "      <td>NaN</td>\n",
       "      <td>NaN</td>\n",
       "      <td>NaN</td>\n",
       "      <td>NaN</td>\n",
       "      <td>NaN</td>\n",
       "      <td>NaN</td>\n",
       "      <td>NaN</td>\n",
       "      <td>NaN</td>\n",
       "      <td>NaN</td>\n",
       "      <td>0</td>\n",
       "    </tr>\n",
       "    <tr>\n",
       "      <th>3</th>\n",
       "      <td>id004</td>\n",
       "      <td>52</td>\n",
       "      <td>M</td>\n",
       "      <td>-582.939571</td>\n",
       "      <td>-366.425893</td>\n",
       "      <td>-281.022452</td>\n",
       "      <td>-437.739821</td>\n",
       "      <td>-206.814933</td>\n",
       "      <td>-230.346112</td>\n",
       "      <td>-126.535277</td>\n",
       "      <td>...</td>\n",
       "      <td>NaN</td>\n",
       "      <td>NaN</td>\n",
       "      <td>NaN</td>\n",
       "      <td>NaN</td>\n",
       "      <td>NaN</td>\n",
       "      <td>NaN</td>\n",
       "      <td>NaN</td>\n",
       "      <td>NaN</td>\n",
       "      <td>NaN</td>\n",
       "      <td>0</td>\n",
       "    </tr>\n",
       "    <tr>\n",
       "      <th>4</th>\n",
       "      <td>id005</td>\n",
       "      <td>56</td>\n",
       "      <td>M</td>\n",
       "      <td>-913.082501</td>\n",
       "      <td>-334.221895</td>\n",
       "      <td>-449.102108</td>\n",
       "      <td>-113.637478</td>\n",
       "      <td>-50.065343</td>\n",
       "      <td>-127.180338</td>\n",
       "      <td>-640.351614</td>\n",
       "      <td>...</td>\n",
       "      <td>NaN</td>\n",
       "      <td>NaN</td>\n",
       "      <td>NaN</td>\n",
       "      <td>NaN</td>\n",
       "      <td>NaN</td>\n",
       "      <td>NaN</td>\n",
       "      <td>NaN</td>\n",
       "      <td>NaN</td>\n",
       "      <td>NaN</td>\n",
       "      <td>0</td>\n",
       "    </tr>\n",
       "  </tbody>\n",
       "</table>\n",
       "<p>5 rows × 717 columns</p>\n",
       "</div>"
      ],
      "text/plain": [
       "      id age sex              1              2              3              4  \\\n",
       "0  id001  29   M   -7881.480247   -5759.969698  -24465.608592  -15275.106756   \n",
       "1  id002  31   M    -567.772697     -33.292309    -465.179132    -525.981010   \n",
       "2  id003  27   M -135372.767326 -115124.114646 -772665.053883 -292331.423079   \n",
       "3  id004  52   M    -582.939571    -366.425893    -281.022452    -437.739821   \n",
       "4  id005  56   M    -913.082501    -334.221895    -449.102108    -113.637478   \n",
       "\n",
       "              5              6              7  ...  705  706  707  708  709  \\\n",
       "0 -22974.378070  -22686.138288   -6131.488463  ...  NaN  NaN  NaN  NaN  NaN   \n",
       "1   -469.546900    -305.182676     -89.243364  ...  NaN  NaN  NaN  NaN  NaN   \n",
       "2 -58059.255010 -118464.329594 -585147.837935  ...  NaN  NaN  NaN  NaN  NaN   \n",
       "3   -206.814933    -230.346112    -126.535277  ...  NaN  NaN  NaN  NaN  NaN   \n",
       "4    -50.065343    -127.180338    -640.351614  ...  NaN  NaN  NaN  NaN  NaN   \n",
       "\n",
       "   710  711  712  713  class_id  \n",
       "0  NaN  NaN  NaN  NaN         0  \n",
       "1  NaN  NaN  NaN  NaN         0  \n",
       "2  NaN  NaN  NaN  NaN         0  \n",
       "3  NaN  NaN  NaN  NaN         0  \n",
       "4  NaN  NaN  NaN  NaN         0  \n",
       "\n",
       "[5 rows x 717 columns]"
      ]
     },
     "execution_count": 8,
     "metadata": {},
     "output_type": "execute_result"
    }
   ],
   "source": [
    "#Ajusta o nome do dataset\n",
    "colunas_total = colunas_1 + colunas_2 + coluna_3\n",
    "\n",
    "df_inicial.columns = colunas_total\n",
    "df_inicial.head()"
   ]
  },
  {
   "cell_type": "markdown",
   "metadata": {},
   "source": [
    "### Neste ponto traduzimos as classes de acordo com os parametros indicados na apresentação 1\n",
    "Registros de 1 a 101 a classe é NORMAL <br />\n",
    "Registros de 102 a 218 a classe é CARDIMIOPATIA DILATADA <br />\n",
    "Registros de 219 a 401 a classe é  CARTIDIOPATIA HIPERTRÓFICA <br />"
   ]
  },
  {
   "cell_type": "code",
   "execution_count": 9,
   "metadata": {},
   "outputs": [
    {
     "data": {
      "text/plain": [
       "CMH       183\n",
       "CMD       116\n",
       "normal    101\n",
       "Name: class_desc, dtype: int64"
      ]
     },
     "execution_count": 9,
     "metadata": {},
     "output_type": "execute_result"
    }
   ],
   "source": [
    "for ind, row in df_inicial.iterrows():\n",
    "    if (df_inicial.loc[ind,'class_id']==0): df_inicial.loc[ind,'class_desc'] = 'normal'\n",
    "    if (df_inicial.loc[ind,'class_id']==1): df_inicial.loc[ind,'class_desc'] = 'CMH'\n",
    "    if (df_inicial.loc[ind,'class_id']==2): df_inicial.loc[ind,'class_desc'] = 'CMD'\n",
    "\n",
    "#Verifica a quantidade de cada classe\n",
    "df_inicial['class_desc'].value_counts()"
   ]
  },
  {
   "cell_type": "markdown",
   "metadata": {},
   "source": [
    "# Pré-processamento"
   ]
  },
  {
   "cell_type": "code",
   "execution_count": 10,
   "metadata": {
    "scrolled": false
   },
   "outputs": [
    {
     "data": {
      "text/html": [
       "<div>\n",
       "<style scoped>\n",
       "    .dataframe tbody tr th:only-of-type {\n",
       "        vertical-align: middle;\n",
       "    }\n",
       "\n",
       "    .dataframe tbody tr th {\n",
       "        vertical-align: top;\n",
       "    }\n",
       "\n",
       "    .dataframe thead th {\n",
       "        text-align: right;\n",
       "    }\n",
       "</style>\n",
       "<table border=\"1\" class=\"dataframe\">\n",
       "  <thead>\n",
       "    <tr style=\"text-align: right;\">\n",
       "      <th></th>\n",
       "      <th>id</th>\n",
       "      <th>age</th>\n",
       "      <th>sex</th>\n",
       "      <th>1</th>\n",
       "      <th>2</th>\n",
       "      <th>3</th>\n",
       "      <th>4</th>\n",
       "      <th>5</th>\n",
       "      <th>6</th>\n",
       "      <th>7</th>\n",
       "      <th>...</th>\n",
       "      <th>706</th>\n",
       "      <th>707</th>\n",
       "      <th>708</th>\n",
       "      <th>709</th>\n",
       "      <th>710</th>\n",
       "      <th>711</th>\n",
       "      <th>712</th>\n",
       "      <th>713</th>\n",
       "      <th>class_id</th>\n",
       "      <th>class_desc</th>\n",
       "    </tr>\n",
       "  </thead>\n",
       "  <tbody>\n",
       "    <tr>\n",
       "      <th>0</th>\n",
       "      <td>id001</td>\n",
       "      <td>29</td>\n",
       "      <td>M</td>\n",
       "      <td>-7881.480247</td>\n",
       "      <td>-5759.969698</td>\n",
       "      <td>-24465.608592</td>\n",
       "      <td>-15275.106756</td>\n",
       "      <td>-22974.378070</td>\n",
       "      <td>-22686.138288</td>\n",
       "      <td>-6131.488463</td>\n",
       "      <td>...</td>\n",
       "      <td>NaN</td>\n",
       "      <td>NaN</td>\n",
       "      <td>NaN</td>\n",
       "      <td>NaN</td>\n",
       "      <td>NaN</td>\n",
       "      <td>NaN</td>\n",
       "      <td>NaN</td>\n",
       "      <td>NaN</td>\n",
       "      <td>0</td>\n",
       "      <td>normal</td>\n",
       "    </tr>\n",
       "    <tr>\n",
       "      <th>1</th>\n",
       "      <td>id002</td>\n",
       "      <td>31</td>\n",
       "      <td>M</td>\n",
       "      <td>-567.772697</td>\n",
       "      <td>-33.292309</td>\n",
       "      <td>-465.179132</td>\n",
       "      <td>-525.981010</td>\n",
       "      <td>-469.546900</td>\n",
       "      <td>-305.182676</td>\n",
       "      <td>-89.243364</td>\n",
       "      <td>...</td>\n",
       "      <td>NaN</td>\n",
       "      <td>NaN</td>\n",
       "      <td>NaN</td>\n",
       "      <td>NaN</td>\n",
       "      <td>NaN</td>\n",
       "      <td>NaN</td>\n",
       "      <td>NaN</td>\n",
       "      <td>NaN</td>\n",
       "      <td>0</td>\n",
       "      <td>normal</td>\n",
       "    </tr>\n",
       "    <tr>\n",
       "      <th>2</th>\n",
       "      <td>id003</td>\n",
       "      <td>27</td>\n",
       "      <td>M</td>\n",
       "      <td>-135372.767326</td>\n",
       "      <td>-115124.114646</td>\n",
       "      <td>-772665.053883</td>\n",
       "      <td>-292331.423079</td>\n",
       "      <td>-58059.255010</td>\n",
       "      <td>-118464.329594</td>\n",
       "      <td>-585147.837935</td>\n",
       "      <td>...</td>\n",
       "      <td>NaN</td>\n",
       "      <td>NaN</td>\n",
       "      <td>NaN</td>\n",
       "      <td>NaN</td>\n",
       "      <td>NaN</td>\n",
       "      <td>NaN</td>\n",
       "      <td>NaN</td>\n",
       "      <td>NaN</td>\n",
       "      <td>0</td>\n",
       "      <td>normal</td>\n",
       "    </tr>\n",
       "    <tr>\n",
       "      <th>3</th>\n",
       "      <td>id004</td>\n",
       "      <td>52</td>\n",
       "      <td>M</td>\n",
       "      <td>-582.939571</td>\n",
       "      <td>-366.425893</td>\n",
       "      <td>-281.022452</td>\n",
       "      <td>-437.739821</td>\n",
       "      <td>-206.814933</td>\n",
       "      <td>-230.346112</td>\n",
       "      <td>-126.535277</td>\n",
       "      <td>...</td>\n",
       "      <td>NaN</td>\n",
       "      <td>NaN</td>\n",
       "      <td>NaN</td>\n",
       "      <td>NaN</td>\n",
       "      <td>NaN</td>\n",
       "      <td>NaN</td>\n",
       "      <td>NaN</td>\n",
       "      <td>NaN</td>\n",
       "      <td>0</td>\n",
       "      <td>normal</td>\n",
       "    </tr>\n",
       "    <tr>\n",
       "      <th>4</th>\n",
       "      <td>id005</td>\n",
       "      <td>56</td>\n",
       "      <td>M</td>\n",
       "      <td>-913.082501</td>\n",
       "      <td>-334.221895</td>\n",
       "      <td>-449.102108</td>\n",
       "      <td>-113.637478</td>\n",
       "      <td>-50.065343</td>\n",
       "      <td>-127.180338</td>\n",
       "      <td>-640.351614</td>\n",
       "      <td>...</td>\n",
       "      <td>NaN</td>\n",
       "      <td>NaN</td>\n",
       "      <td>NaN</td>\n",
       "      <td>NaN</td>\n",
       "      <td>NaN</td>\n",
       "      <td>NaN</td>\n",
       "      <td>NaN</td>\n",
       "      <td>NaN</td>\n",
       "      <td>0</td>\n",
       "      <td>normal</td>\n",
       "    </tr>\n",
       "  </tbody>\n",
       "</table>\n",
       "<p>5 rows × 718 columns</p>\n",
       "</div>"
      ],
      "text/plain": [
       "      id age sex              1              2              3              4  \\\n",
       "0  id001  29   M   -7881.480247   -5759.969698  -24465.608592  -15275.106756   \n",
       "1  id002  31   M    -567.772697     -33.292309    -465.179132    -525.981010   \n",
       "2  id003  27   M -135372.767326 -115124.114646 -772665.053883 -292331.423079   \n",
       "3  id004  52   M    -582.939571    -366.425893    -281.022452    -437.739821   \n",
       "4  id005  56   M    -913.082501    -334.221895    -449.102108    -113.637478   \n",
       "\n",
       "              5              6              7  ...  706  707  708  709  710  \\\n",
       "0 -22974.378070  -22686.138288   -6131.488463  ...  NaN  NaN  NaN  NaN  NaN   \n",
       "1   -469.546900    -305.182676     -89.243364  ...  NaN  NaN  NaN  NaN  NaN   \n",
       "2 -58059.255010 -118464.329594 -585147.837935  ...  NaN  NaN  NaN  NaN  NaN   \n",
       "3   -206.814933    -230.346112    -126.535277  ...  NaN  NaN  NaN  NaN  NaN   \n",
       "4    -50.065343    -127.180338    -640.351614  ...  NaN  NaN  NaN  NaN  NaN   \n",
       "\n",
       "   711  712  713  class_id  class_desc  \n",
       "0  NaN  NaN  NaN         0      normal  \n",
       "1  NaN  NaN  NaN         0      normal  \n",
       "2  NaN  NaN  NaN         0      normal  \n",
       "3  NaN  NaN  NaN         0      normal  \n",
       "4  NaN  NaN  NaN         0      normal  \n",
       "\n",
       "[5 rows x 718 columns]"
      ]
     },
     "execution_count": 10,
     "metadata": {},
     "output_type": "execute_result"
    }
   ],
   "source": [
    "df_inicial.head()"
   ]
  },
  {
   "cell_type": "code",
   "execution_count": 11,
   "metadata": {},
   "outputs": [
    {
     "data": {
      "text/plain": [
       "id             object\n",
       "age            object\n",
       "sex            object\n",
       "1             float64\n",
       "2             float64\n",
       "               ...   \n",
       "711           float64\n",
       "712           float64\n",
       "713           float64\n",
       "class_id        int64\n",
       "class_desc     object\n",
       "Length: 718, dtype: object"
      ]
     },
     "execution_count": 11,
     "metadata": {},
     "output_type": "execute_result"
    }
   ],
   "source": [
    "df_inicial.dtypes"
   ]
  },
  {
   "cell_type": "code",
   "execution_count": 13,
   "metadata": {},
   "outputs": [
    {
     "data": {
      "text/plain": [
       "'3.2.1'"
      ]
     },
     "execution_count": 13,
     "metadata": {},
     "output_type": "execute_result"
    }
   ],
   "source": [
    "import matplotlib\n",
    "matplotlib.__version__"
   ]
  },
  {
   "cell_type": "code",
   "execution_count": 21,
   "metadata": {},
   "outputs": [
    {
     "data": {
      "image/png": "[encoded data removed]",
      "text/plain": [
       "<Figure size 360x288 with 1 Axes>"
      ]
     },
     "metadata": {},
     "output_type": "display_data"
    },
    {
     "name": "stdout",
     "output_type": "stream",
     "text": [
      "Valores absolutos:\n"
     ]
    },
    {
     "data": {
      "text/plain": [
       "M    276\n",
       "F    124\n",
       "Name: sex, dtype: int64"
      ]
     },
     "execution_count": 21,
     "metadata": {},
     "output_type": "execute_result"
    }
   ],
   "source": [
    "#Sabemos que sexo é uma variavel importante (conforme pesquisa Fonte), portanto esse \n",
    "#desbalanceamento pode ser um problema. Vamos acompanhar ao longo do processo\n",
    "total_M = df_inicial.query('sex == \"M\"').groupby('sex').size()[0]\n",
    "\n",
    "total_F = df_inicial.query('sex == \"F\"').groupby('sex').size()[0]\n",
    "\n",
    "\n",
    "valores = [total_M,total_F]\n",
    "series = ['Masculino','Feminino']\n",
    "\n",
    "\n",
    "plt.axis('equal')\n",
    "plt.rcParams.update({'font.size':14})\n",
    "plt.rcParams[\"figure.figsize\"] = [5,4]\n",
    "\n",
    "\n",
    "plt.pie(valores,labels=series,autopct='%1.1f%%',\n",
    "        explode=(0,0.1),shadow = True,startangle=90,)\n",
    "\n",
    "plt.title(\"Participação por sexo\",size=14,weight='demibold')\n",
    "plt.show()\n",
    "\n",
    "print('Valores absolutos:')\n",
    "df_inicial['sex'].value_counts()"
   ]
  },
  {
   "cell_type": "code",
   "execution_count": null,
   "metadata": {},
   "outputs": [],
   "source": [
    "#dividimos assim para manter a ordem lógica do dataset (sexo,idade + coeficientes harmonicos + target)\n",
    "\n",
    "#separa primeiras colunas\n",
    "df_1 = df_inicial.iloc[:, 0:3]\n",
    "\n",
    "for ind, row in df_inicial.iterrows():\n",
    "    if (df_1.loc[ind,'sex']=='M'):\n",
    "        df_1.loc[ind,'man'] = 1\n",
    "    else:\n",
    "        df_1.loc[ind,'man'] = 0\n",
    "\n",
    "#deleta coluna \"sexo\"\n",
    "df_1.drop(['sex'],axis=1,inplace=True)\n",
    "\n",
    "#transforma sexo em inteiro\n",
    "df_1['man'] = df_1['man'].astype(int)\n",
    "\n",
    "df_1.dtypes\n",
    "\n",
    "\n",
    "#seleciona as outras colunas do Dataset\n",
    "df_1_2 = df_inicial.iloc[:, 3:]\n",
    "df_1_2\n",
    "\n",
    "#Junta os dois datasets\n",
    "df_2 = pd.concat([df_1, df_1_2], axis = 1)\n",
    "df_2"
   ]
  },
  {
   "cell_type": "markdown",
   "metadata": {},
   "source": [
    "# Definição do dataset\n",
    "\n",
    "#### Dado que o numero de observações entre \"sem cardiomiopatia\" e \"com cardimiopatia (em caso de soma CDM+CMH\") ficaria desbalanceado, optamos por trabalhar com as classes nomal e CMD"
   ]
  },
  {
   "cell_type": "code",
   "execution_count": null,
   "metadata": {},
   "outputs": [],
   "source": [
    "#Verifica a quantidade de cada classe\n",
    "df_2['class_desc'].value_counts()"
   ]
  },
  {
   "cell_type": "code",
   "execution_count": null,
   "metadata": {},
   "outputs": [],
   "source": [
    "#Determinando quais classes uremos utilizar\n",
    "df_3 = df_2[df_2['class_id']!=1]\n",
    "df_3['class_desc'].value_counts()"
   ]
  },
  {
   "cell_type": "code",
   "execution_count": null,
   "metadata": {},
   "outputs": [],
   "source": [
    "for ind, row in df_3.iterrows():\n",
    "    if (df_3.loc[ind,'class_id']==0):\n",
    "        df_3.loc[ind,'target'] = 0\n",
    "    else:\n",
    "        df_3.loc[ind,'target'] = 1\n",
    "\n",
    "df_3['target']= df_3['target'].astype(int)\n",
    "df_3['target'].value_counts()"
   ]
  },
  {
   "cell_type": "markdown",
   "metadata": {},
   "source": [
    "### Verificando Missing Values"
   ]
  },
  {
   "cell_type": "code",
   "execution_count": null,
   "metadata": {},
   "outputs": [],
   "source": [
    "df_3.isnull().sum()"
   ]
  },
  {
   "cell_type": "code",
   "execution_count": null,
   "metadata": {},
   "outputs": [],
   "source": [
    "# Para os valores abaixo consideramos a média das idades\n",
    "age1 = df_3[df_3.age.isnull()]\n",
    "age2 = df_3[df_3['age']=='--']\n",
    "age3 = df_3[df_3['age']=='N']\n",
    "\n",
    "#Visualizar todas as classes que iremos tratar\n",
    "age_tratar = pd.concat([age1,age2,age3])\n",
    "age_tratar"
   ]
  },
  {
   "cell_type": "code",
   "execution_count": null,
   "metadata": {},
   "outputs": [],
   "source": [
    "df_3_1 = df_3\n",
    "\n",
    "#altera todos os valores para 0\n",
    "df_3_1['age'].replace('--',0,inplace=True)\n",
    "df_3_1['age'].replace('N',0,inplace=True)\n",
    "df_3_1['age'] = df_3_1['age'].fillna(0)\n",
    "\n",
    "\n",
    "df_3_1['age']=df_3_1['age'].astype(int)"
   ]
  },
  {
   "cell_type": "code",
   "execution_count": null,
   "metadata": {},
   "outputs": [],
   "source": [
    "#calcula média das idades\n",
    "media_idade = int(df_3_1.age.mean())\n",
    "media_idade"
   ]
  },
  {
   "cell_type": "code",
   "execution_count": null,
   "metadata": {},
   "outputs": [],
   "source": [
    "df_3_1['age'].replace(0,media_idade,inplace=True)\n",
    "df_4 = df_3_1"
   ]
  },
  {
   "cell_type": "markdown",
   "metadata": {},
   "source": [
    "### Verificando percentual de missing por coluna"
   ]
  },
  {
   "cell_type": "code",
   "execution_count": null,
   "metadata": {
    "scrolled": true
   },
   "outputs": [],
   "source": [
    "# É possivel notar que em muitas colunas temos apenas 1 observação preenchida\n",
    "dados_vazios = (df_4.isnull().sum()/len(df_4['id']))*100\n",
    "dados_vazios"
   ]
  },
  {
   "cell_type": "code",
   "execution_count": null,
   "metadata": {},
   "outputs": [],
   "source": [
    "dados_vazios.tail(15)"
   ]
  },
  {
   "cell_type": "code",
   "execution_count": null,
   "metadata": {},
   "outputs": [],
   "source": [
    "df_4.count()"
   ]
  },
  {
   "cell_type": "code",
   "execution_count": null,
   "metadata": {},
   "outputs": [],
   "source": [
    "df_4['702'].isnull().sum()"
   ]
  },
  {
   "cell_type": "code",
   "execution_count": null,
   "metadata": {},
   "outputs": [],
   "source": [
    "#Abaixo podemos notar a quantidade de atributos que está com 99% de suas observações vazias\n",
    "dados_nulos = pd.DataFrame(data=dados_vazios)\n",
    "dados_nulos.columns = ['vazios']\n",
    "dados_nulos.sort_values(by=['vazios'], ascending=False)"
   ]
  },
  {
   "cell_type": "code",
   "execution_count": null,
   "metadata": {},
   "outputs": [],
   "source": [
    "dados_nulos[dados_nulos['vazios']>50]"
   ]
  },
  {
   "cell_type": "markdown",
   "metadata": {},
   "source": [
    "### Abaixo é possivel notar que temos 412 features que estão mais de 50% vazias no datase"
   ]
  },
  {
   "cell_type": "code",
   "execution_count": null,
   "metadata": {},
   "outputs": [],
   "source": [
    "dados_nulos[dados_nulos['vazios']>50].count()"
   ]
  },
  {
   "cell_type": "code",
   "execution_count": null,
   "metadata": {},
   "outputs": [],
   "source": [
    "#Com o gráfico abaixo é possivel notar que quando caminhamos para a direita no dataset\n",
    "#cada vez mais temos ocorrencias de valores nulos\n",
    "#como temos bastantes features não é possivel avaliar, dessa forma vamos avaliar por grupos\n",
    "\n",
    "msno.matrix(df_4) "
   ]
  },
  {
   "cell_type": "code",
   "execution_count": null,
   "metadata": {},
   "outputs": [],
   "source": [
    "# Quando agrupamos a cada 70 atributos é possivel notar que temos valores faltanto \n",
    "# a partir da coluna 64\n",
    "msno.matrix(df_4.iloc[:, 0:70]) "
   ]
  },
  {
   "cell_type": "code",
   "execution_count": null,
   "metadata": {},
   "outputs": [],
   "source": [
    "msno.matrix(df_4.iloc[:, 281:350]) "
   ]
  },
  {
   "cell_type": "markdown",
   "metadata": {},
   "source": [
    "### Tratando os missings para PCA:\n",
    "\n",
    "Como verificamos na análise acima temos muitas features com valores faltando, desta forma faremos algumas tentativas de transformações de feature para tentar minizar o impacto dos valores nulos sem descaracterizar o dataset.\n",
    "\n",
    "1. Separar o dataset entre: Atributos SPHARMS e Demais atributos;\n",
    "2. Criar feature Soma de SPHARMS;"
   ]
  },
  {
   "cell_type": "code",
   "execution_count": null,
   "metadata": {},
   "outputs": [],
   "source": [
    "df_4.head(2)"
   ]
  },
  {
   "cell_type": "code",
   "execution_count": null,
   "metadata": {},
   "outputs": [],
   "source": [
    "df_spharm = df_4.iloc[:,3:716]\n",
    "df_spharm.head(5)"
   ]
  },
  {
   "cell_type": "code",
   "execution_count": null,
   "metadata": {},
   "outputs": [],
   "source": [
    "dados_soma = df_spharm.sum(axis=1,skipna=True,numeric_only=True)\n",
    "coluna_soma = pd.DataFrame(data=dados_soma,columns=['soma_spharms'])\n",
    "coluna_soma\n",
    "\n",
    "df_spharm = pd.concat([df_spharm, coluna_soma], axis = 1)\n",
    "df_spharm.tail()"
   ]
  },
  {
   "cell_type": "code",
   "execution_count": null,
   "metadata": {},
   "outputs": [],
   "source": [
    "df_demais_1 = df_4.iloc[:,1:3]\n",
    "df_demais_1.head()"
   ]
  },
  {
   "cell_type": "code",
   "execution_count": null,
   "metadata": {},
   "outputs": [],
   "source": [
    "df_demais_2 = df_4.iloc[:,718:719]\n",
    "df_demais_2.head()"
   ]
  },
  {
   "cell_type": "code",
   "execution_count": null,
   "metadata": {},
   "outputs": [],
   "source": [
    "df_demais = pd.concat([df_demais_1, df_demais_2], axis = 1)\n",
    "df_demais.tail()"
   ]
  },
  {
   "cell_type": "markdown",
   "metadata": {},
   "source": [
    "### PCA primeira abordagem: Com soma de coeficientes harmonicos e normalizado"
   ]
  },
  {
   "cell_type": "code",
   "execution_count": null,
   "metadata": {},
   "outputs": [],
   "source": [
    "pca_1 = pd.concat([df_demais, df_spharm['soma_spharms']], axis = 1)\n",
    "pca_1.head()"
   ]
  },
  {
   "cell_type": "code",
   "execution_count": null,
   "metadata": {},
   "outputs": [],
   "source": [
    "# Separando as fetures\n",
    "feat = ['age', 'man', 'soma_spharms']\n",
    "x = pca_1.loc[:, feat].values\n",
    "\n",
    "# Separa target\n",
    "y = pca_1.loc[:,['target']].values\n",
    "\n",
    "# Standardizing the features\n",
    "x = StandardScaler().fit_transform(x)"
   ]
  },
  {
   "cell_type": "code",
   "execution_count": null,
   "metadata": {},
   "outputs": [],
   "source": [
    "#dados normalizados\n",
    "pca_1_normal = pd.DataFrame(data=x,columns = feat)\n",
    "\n",
    "pca_1_y =  pd.DataFrame(data=y,columns = ['target'])\n",
    "\n",
    "pca_1_normal.tail()\n",
    "pca_1_y.tail()"
   ]
  },
  {
   "cell_type": "code",
   "execution_count": null,
   "metadata": {},
   "outputs": [],
   "source": [
    "pca = PCA(n_components=2)\n",
    "principalComponents = pca.fit_transform(x)\n",
    "principalDf = pd.DataFrame(data = principalComponents\n",
    "             , columns = ['principal component 1', 'principal component 2'])"
   ]
  },
  {
   "cell_type": "code",
   "execution_count": null,
   "metadata": {},
   "outputs": [],
   "source": [
    "finalDf = pd.concat([principalDf, pca_1_y], axis = 1)\n",
    "finalDf"
   ]
  },
  {
   "cell_type": "code",
   "execution_count": null,
   "metadata": {},
   "outputs": [],
   "source": [
    "fig = plt.figure(figsize = (4,4))\n",
    "ax = fig.add_subplot(1,1,1) \n",
    "\n",
    "ax.set_xlabel('Principal Component 1', fontsize = 15)\n",
    "ax.set_ylabel('Principal Component 2', fontsize = 15)\n",
    "ax.set_title('2 componentes PCA', fontsize = 20)\n",
    "\n",
    "targets = [1, 0]\n",
    "colors = ['r', 'g']\n",
    "for target, color in zip(targets,colors):\n",
    "    indicesToKeep = finalDf['target'] == target\n",
    "    ax.scatter(finalDf.loc[indicesToKeep, 'principal component 1']\n",
    "               , finalDf.loc[indicesToKeep, 'principal component 2']\n",
    "               , c = color\n",
    "               , s = 60)\n",
    "ax.legend(targets)\n",
    "ax.grid()"
   ]
  },
  {
   "cell_type": "markdown",
   "metadata": {},
   "source": [
    "## Conclusão: Com essa primeira abordagem não temos uma boa separação entre classes\n",
    "\n",
    "Juntos os componentes 1 e 2 contém 73% dasinformações do dataset"
   ]
  },
  {
   "cell_type": "code",
   "execution_count": null,
   "metadata": {},
   "outputs": [],
   "source": [
    "pca.explained_variance_ratio_"
   ]
  }
 ],
 "metadata": {
  "kernelspec": {
   "display_name": "Python 3",
   "language": "python",
   "name": "python3"
  },
  "language_info": {
   "codemirror_mode": {
    "name": "ipython",
    "version": 3
   },
   "file_extension": ".py",
   "mimetype": "text/x-python",
   "name": "python",
   "nbconvert_exporter": "python",
   "pygments_lexer": "ipython3",
   "version": "3.7.6"
  }
 },
 "nbformat": 4,
 "nbformat_minor": 4
}
