{
 "cells": [
  {
   "cell_type": "markdown",
   "metadata": {},
   "source": [
    "# USP - EACH - Reconhecimento de Padrões - Abril de 2020\n",
    "## Grupo 8/H\n",
    "### Atividade 05 - K Folds\n",
    "- Implementação de uma função que recebe um conjunto de dados dos atributos, um conjunto de dados do target (variável alvo)\n",
    "- e a quantidade (k) de folds (conjuntos) de separação\n",
    "- Separa as bases em k conjuntos de treinamento/verificação\n",
    "- Conserva a proporção das classes em referência a base original\n",
    "- Para cada k, a quantidade de amostras entre as classes podem ter, no máximo, 1 elemento a mais ou a menos em relação ao outro k.\n",
    "- Exemplo:\n",
    "-- k = 3, Dataset: 80 positivas e 40 negativas (66% x 33%)\n",
    "-- Fold 1: Pos: 27, Neg: 14, Total: 41, Proporção: 66%;33%\n",
    "-- Fold 2: Pos: 27, Neg: 13, Total: 40, Proporção: 67%;32%\n",
    "-- Fold 3: Pos: 26, Neg: 13, Total: 39, Proporção: 66%;33%\n",
    "- Imprime a quantidade de amostras de cada k"
   ]
  },
  {
   "cell_type": "code",
   "execution_count": 1,
   "metadata": {},
   "outputs": [],
   "source": [
    "# Bibliotecas\n",
    "import numpy as np\n",
    "import pandas as pd\n",
    "import random\n",
    "import math\n",
    "import matplotlib.pyplot as plt\n",
    "\n",
    "from sklearn.model_selection import KFold\n",
    "from sklearn.model_selection import GroupKFold\n",
    "from sklearn.model_selection import StratifiedKFold"
   ]
  },
  {
   "cell_type": "code",
   "execution_count": 2,
   "metadata": {},
   "outputs": [],
   "source": [
    "# Leitura do arquivo de entrada\n",
    "\n",
    "df = pd.read_csv('CMCT_20200503.csv', )\n"
   ]
  },
  {
   "cell_type": "code",
   "execution_count": 3,
   "metadata": {},
   "outputs": [],
   "source": [
    "# Seleção somente dos TARGET (Classes) 0 - Normal e 2 - Dilatados\n",
    "dfx = df.copy()\n",
    "\n",
    "masc = dfx['TARGET'] != 1\n",
    "dfy = dfx.loc[masc, :]\n",
    "\n",
    "X = dfy.drop(['TARGET'], axis=1)\n",
    "Y = dfy['TARGET']"
   ]
  },
  {
   "cell_type": "code",
   "execution_count": 4,
   "metadata": {},
   "outputs": [],
   "source": [
    "########################################\n",
    "#### Separa uma base em K conjuntos ####\n",
    "########################################\n",
    "def splitFolds(data, target, k=10):\n",
    "    \n",
    "    # Contadores para apresentação\n",
    "    ldata = len(data)              # Quantidade de linhas da base\n",
    "    numel = int(ldata / k)         # Quantidade de amostras por fold\n",
    "        \n",
    "    uclass = target.value_counts() # Classes e suas quantidades\n",
    "    uclass.sort_index(inplace=True)\n",
    "    nclass = uclass.index          # Classes\n",
    "    qclass = uclass.values         # Quantidade de cada classe\n",
    "    \n",
    "    # Junção das classes e suas quantidades para um dicionário\n",
    "    zclass = zip(nclass, qclass)   \n",
    "    dclass = dict(zclass)          \n",
    "    \n",
    "    # Separação dos conjuntos\n",
    "    partesK = []    # Conterá todos os conjuntos k de índices, cada um proporcional a cada classe\n",
    "    for i in range(k):\n",
    "        pk = []\n",
    "        if (i < 7):\n",
    "            nelem = numel + 1\n",
    "        else:\n",
    "            nelem = numel\n",
    "            \n",
    "        ntot = nelem\n",
    "        \n",
    "        for nc, qc in dclass.items():\n",
    "            # Captura de todos os índices da coluna target\n",
    "            masc = target == nc\n",
    "            idclass = list(target[masc].index)\n",
    "        \n",
    "            # Montagem dos k subgrupos com a mesma proporção da classe\n",
    "            propclass = int(round(nelem * qc / ldata))\n",
    "            if (ntot > propclass):\n",
    "                ntot -= propclass\n",
    "            else:\n",
    "                propclass = ntot\n",
    "            \n",
    "            rs = random.sample(idclass, propclass)\n",
    "            pk = pk + rs\n",
    "            \n",
    "        partesK.append(pk)\n",
    "        \n",
    "    return (partesK)          \n"
   ]
  },
  {
   "cell_type": "code",
   "execution_count": 5,
   "metadata": {},
   "outputs": [
    {
     "name": "stdout",
     "output_type": "stream",
     "text": [
      "**** Dataset: CMCT_20200503.csv ****\n",
      "K = 10 - Dataset: 101 SAN e 116 CMD ( 46.54 %  x  53.46 % )\n",
      "\n",
      "Fold 1: SAN: 10, CMD: 12, Total: 22, Proporção: 45.45%; 54.55%)\n",
      "Fold 2: SAN: 10, CMD: 12, Total: 22, Proporção: 45.45%; 54.55%)\n",
      "Fold 3: SAN: 10, CMD: 12, Total: 22, Proporção: 45.45%; 54.55%)\n",
      "Fold 4: SAN: 10, CMD: 12, Total: 22, Proporção: 45.45%; 54.55%)\n",
      "Fold 5: SAN: 10, CMD: 12, Total: 22, Proporção: 45.45%; 54.55%)\n",
      "Fold 6: SAN: 10, CMD: 12, Total: 22, Proporção: 45.45%; 54.55%)\n",
      "Fold 7: SAN: 10, CMD: 12, Total: 22, Proporção: 45.45%; 54.55%)\n",
      "Fold 8: SAN: 10, CMD: 11, Total: 21, Proporção: 47.62%; 52.38%)\n",
      "Fold 9: SAN: 10, CMD: 11, Total: 21, Proporção: 47.62%; 52.38%)\n",
      "Fold 10: SAN: 10, CMD: 11, Total: 21, Proporção: 47.62%; 52.38%)\n"
     ]
    }
   ],
   "source": [
    "k = 10\n",
    "partesK = splitFolds(X, Y, k)\n",
    "\n",
    "qtdDS = len(X)\n",
    "vc = Y.value_counts()\n",
    "qtdT0 = vc.values[1]\n",
    "qtdT2 = vc.values[0]\n",
    "perT0 = round(qtdT0/qtdDS * 100, 2)\n",
    "perT2 = round(qtdT2/qtdDS * 100, 2)\n",
    "\n",
    "print('**** Dataset: CMCT_20200503.csv ****')\n",
    "print('K =', k, '- Dataset:', qtdT0, 'SAN e', qtdT2, 'CMD (', perT0, '%  x ', perT2, '% )')\n",
    "print()\n",
    "\n",
    "qtd0 = 0\n",
    "qtd2 = 0\n",
    "per0 = 0.0\n",
    "per2 = 0.0\n",
    "\n",
    "for f in range(len(partesK)):\n",
    "    dx = Y[partesK[f]]\n",
    "    vc = dx.value_counts()\n",
    "    qtd0 = vc.values[1]\n",
    "    qtd2 = vc.values[0]\n",
    "    per0 = round(qtd0/(qtd0 + qtd2) * 100, 2)\n",
    "    per2 = round(qtd2/(qtd0 + qtd2) * 100, 2)\n",
    "    \n",
    "    print(f'Fold {f+1}: SAN: {qtd0}, CMD: {qtd2}, Total: {qtd0+qtd2}, Proporção: {per0}%; {per2}%)')\n"
   ]
  }
 ],
 "metadata": {
  "kernelspec": {
   "display_name": "Python 3",
   "language": "python",
   "name": "python3"
  },
  "language_info": {
   "codemirror_mode": {
    "name": "ipython",
    "version": 3
   },
   "file_extension": ".py",
   "mimetype": "text/x-python",
   "name": "python",
   "nbconvert_exporter": "python",
   "pygments_lexer": "ipython3",
   "version": "3.7.3"
  }
 },
 "nbformat": 4,
 "nbformat_minor": 2
}
