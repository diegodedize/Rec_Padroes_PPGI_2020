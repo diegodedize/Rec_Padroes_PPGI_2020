{
 "cells": [
  {
   "cell_type": "code",
   "execution_count": 30,
   "metadata": {
    "tags": []
   },
   "outputs": [],
   "source": [
    "# Importação de Bibliotecas\n",
    "import pandas as pd\n",
    "import numpy as np\n",
    "\n",
    "from sklearn.model_selection import train_test_split\n",
    "from sklearn.preprocessing import StandardScaler\n",
    "\n",
    "from tensorflow import keras\n",
    "from keras.models import Sequential\n",
    "from keras.layers import Dense\n",
    "import keras\n",
    "\n",
    "\n",
    "from sklearn.metrics import accuracy_score\n",
    "from sklearn.metrics import roc_auc_score\n",
    "from sklearn.metrics import recall_score\n",
    "from sklearn.metrics import average_precision_score\n",
    "from sklearn.metrics import precision_score\n",
    "from sklearn.metrics import roc_curve\n",
    "from sklearn.metrics import precision_recall_curve\n",
    "from sklearn.metrics import auc\n",
    "\n"
   ]
  },
  {
   "cell_type": "code",
   "execution_count": 13,
   "metadata": {},
   "outputs": [],
   "source": [
    "# Leitura e tratamento do arquivo\n",
    "#df = pd.read_csv('df_final_20200510.csv')\n",
    "df = pd.read_csv(\"../RESULTADOS/df_SFS_20200523_N15_CV10_s_idade_s_sexo.csv\")\n",
    "\n",
    "\n",
    "mascara = df['TARGET'] == 2\n",
    "df.loc[mascara, 'TARGET'] = 1"
   ]
  },
  {
   "cell_type": "code",
   "execution_count": 14,
   "metadata": {},
   "outputs": [],
   "source": [
    "# Separação em amostra para treino e teste\n",
    "dfn = df.copy()\n",
    "X = df.iloc[:,:-1]\n",
    "y = df.iloc[:,-1:]\n",
    "\n",
    "X_train, X_test, y_train, y_test = train_test_split(X, y, test_size=0.20, random_state=42)\n",
    "\n",
    "scaler  = StandardScaler().fit(X_train)\n",
    "X_train = scaler.transform(X_train)\n",
    "X_test  = scaler.transform(X_test)"
   ]
  },
  {
   "cell_type": "code",
   "execution_count": 35,
   "metadata": {},
   "outputs": [],
   "source": [
    "# Criação da Rede Neural\n",
    "model = Sequential()\n",
    "\n",
    "model.add(Dense(51, activation=None, input_shape=(51,)))\n",
    "model.add(Dense(18, activation='tanh'))       # Camada Escondida: 18 neurônios (raiz da qtde de característica) e \n",
    "model.add(Dense(1, activation='sigmoid'))    # Camada de Saída: 1 neurônio e o sigmóide de ativação\n",
    "\n",
    "opt = keras.optimizers.Adam(learning_rate=0.01)\n",
    "model.compile(loss='binary_crossentropy',\n",
    "              optimizer=opt,\n",
    "              metrics=['accuracy'])"
   ]
  },
  {
   "cell_type": "code",
   "execution_count": 36,
   "metadata": {
    "tags": []
   },
   "outputs": [
    {
     "output_type": "stream",
     "name": "stdout",
     "text": "Epoch 1/68\n173/173 [==============================] - 1s 5ms/step - loss: 0.9475 - accuracy: 0.4335\nEpoch 2/68\n173/173 [==============================] - 0s 120us/step - loss: 0.6308 - accuracy: 0.6474\nEpoch 3/68\n173/173 [==============================] - 0s 36us/step - loss: 0.5621 - accuracy: 0.6879\nEpoch 4/68\n173/173 [==============================] - 0s 78us/step - loss: 0.5415 - accuracy: 0.7225\nEpoch 5/68\n173/173 [==============================] - 0s 82us/step - loss: 0.5208 - accuracy: 0.7630\nEpoch 6/68\n173/173 [==============================] - 0s 140us/step - loss: 0.4994 - accuracy: 0.7746\nEpoch 7/68\n173/173 [==============================] - 0s 107us/step - loss: 0.4776 - accuracy: 0.7919\nEpoch 8/68\n173/173 [==============================] - 0s 71us/step - loss: 0.4506 - accuracy: 0.7803\nEpoch 9/68\n173/173 [==============================] - 0s 86us/step - loss: 0.4225 - accuracy: 0.7977\nEpoch 10/68\n173/173 [==============================] - 0s 70us/step - loss: 0.4038 - accuracy: 0.8150\nEpoch 11/68\n173/173 [==============================] - 0s 146us/step - loss: 0.3976 - accuracy: 0.8324\nEpoch 12/68\n173/173 [==============================] - 0s 147us/step - loss: 0.3905 - accuracy: 0.8555\nEpoch 13/68\n173/173 [==============================] - 0s 152us/step - loss: 0.3749 - accuracy: 0.8439\nEpoch 14/68\n173/173 [==============================] - 0s 137us/step - loss: 0.3555 - accuracy: 0.8439\nEpoch 15/68\n173/173 [==============================] - 0s 90us/step - loss: 0.3423 - accuracy: 0.8439\nEpoch 16/68\n173/173 [==============================] - 0s 47us/step - loss: 0.3361 - accuracy: 0.8266\nEpoch 17/68\n173/173 [==============================] - 0s 100us/step - loss: 0.3302 - accuracy: 0.8324\nEpoch 18/68\n173/173 [==============================] - 0s 123us/step - loss: 0.3215 - accuracy: 0.8555\nEpoch 19/68\n173/173 [==============================] - 0s 82us/step - loss: 0.3109 - accuracy: 0.8555\nEpoch 20/68\n173/173 [==============================] - 0s 127us/step - loss: 0.3003 - accuracy: 0.8613\nEpoch 21/68\n173/173 [==============================] - 0s 133us/step - loss: 0.2907 - accuracy: 0.8728\nEpoch 22/68\n173/173 [==============================] - 0s 128us/step - loss: 0.2832 - accuracy: 0.8844\nEpoch 23/68\n173/173 [==============================] - 0s 89us/step - loss: 0.2781 - accuracy: 0.9075\nEpoch 24/68\n173/173 [==============================] - 0s 194us/step - loss: 0.2740 - accuracy: 0.8960\nEpoch 25/68\n173/173 [==============================] - 0s 152us/step - loss: 0.2680 - accuracy: 0.8844\nEpoch 26/68\n173/173 [==============================] - 0s 83us/step - loss: 0.2599 - accuracy: 0.8902\nEpoch 27/68\n173/173 [==============================] - 0s 198us/step - loss: 0.2530 - accuracy: 0.8902\nEpoch 28/68\n173/173 [==============================] - 0s 73us/step - loss: 0.2486 - accuracy: 0.9075\nEpoch 29/68\n173/173 [==============================] - 0s 97us/step - loss: 0.2444 - accuracy: 0.9017\nEpoch 30/68\n173/173 [==============================] - 0s 143us/step - loss: 0.2381 - accuracy: 0.9133\nEpoch 31/68\n173/173 [==============================] - 0s 155us/step - loss: 0.2303 - accuracy: 0.9191\nEpoch 32/68\n173/173 [==============================] - 0s 156us/step - loss: 0.2243 - accuracy: 0.9306\nEpoch 33/68\n173/173 [==============================] - 0s 194us/step - loss: 0.2209 - accuracy: 0.9249\nEpoch 34/68\n173/173 [==============================] - 0s 209us/step - loss: 0.2162 - accuracy: 0.9306\nEpoch 35/68\n173/173 [==============================] - 0s 77us/step - loss: 0.2102 - accuracy: 0.9364\nEpoch 36/68\n173/173 [==============================] - 0s 67us/step - loss: 0.2054 - accuracy: 0.9306\nEpoch 37/68\n173/173 [==============================] - 0s 101us/step - loss: 0.2012 - accuracy: 0.9306\nEpoch 38/68\n173/173 [==============================] - 0s 124us/step - loss: 0.1969 - accuracy: 0.9364\nEpoch 39/68\n173/173 [==============================] - 0s 138us/step - loss: 0.1918 - accuracy: 0.9364\nEpoch 40/68\n173/173 [==============================] - 0s 123us/step - loss: 0.1869 - accuracy: 0.9364\nEpoch 41/68\n173/173 [==============================] - 0s 102us/step - loss: 0.1832 - accuracy: 0.9422\nEpoch 42/68\n173/173 [==============================] - 0s 75us/step - loss: 0.1787 - accuracy: 0.9422\nEpoch 43/68\n173/173 [==============================] - 0s 141us/step - loss: 0.1738 - accuracy: 0.9364\nEpoch 44/68\n173/173 [==============================] - 0s 99us/step - loss: 0.1701 - accuracy: 0.9364\nEpoch 45/68\n173/173 [==============================] - 0s 98us/step - loss: 0.1664 - accuracy: 0.9364\nEpoch 46/68\n173/173 [==============================] - 0s 98us/step - loss: 0.1620 - accuracy: 0.9422\nEpoch 47/68\n173/173 [==============================] - 0s 57us/step - loss: 0.1579 - accuracy: 0.9480\nEpoch 48/68\n173/173 [==============================] - 0s 114us/step - loss: 0.1542 - accuracy: 0.9538\nEpoch 49/68\n173/173 [==============================] - 0s 40us/step - loss: 0.1502 - accuracy: 0.9538\nEpoch 50/68\n173/173 [==============================] - 0s 99us/step - loss: 0.1459 - accuracy: 0.9538\nEpoch 51/68\n173/173 [==============================] - 0s 43us/step - loss: 0.1421 - accuracy: 0.9538\nEpoch 52/68\n173/173 [==============================] - 0s 62us/step - loss: 0.1386 - accuracy: 0.9538\nEpoch 53/68\n173/173 [==============================] - 0s 49us/step - loss: 0.1349 - accuracy: 0.9538\nEpoch 54/68\n173/173 [==============================] - 0s 47us/step - loss: 0.1315 - accuracy: 0.9538\nEpoch 55/68\n173/173 [==============================] - 0s 27us/step - loss: 0.1285 - accuracy: 0.9538\nEpoch 56/68\n173/173 [==============================] - 0s 32us/step - loss: 0.1252 - accuracy: 0.9538\nEpoch 57/68\n173/173 [==============================] - 0s 76us/step - loss: 0.1219 - accuracy: 0.9538\nEpoch 58/68\n173/173 [==============================] - 0s 121us/step - loss: 0.1190 - accuracy: 0.9538\nEpoch 59/68\n173/173 [==============================] - 0s 33us/step - loss: 0.1160 - accuracy: 0.9538\nEpoch 60/68\n173/173 [==============================] - 0s 131us/step - loss: 0.1132 - accuracy: 0.9595\nEpoch 61/68\n173/173 [==============================] - 0s 63us/step - loss: 0.1106 - accuracy: 0.9653\nEpoch 62/68\n173/173 [==============================] - 0s 90us/step - loss: 0.1080 - accuracy: 0.9653\nEpoch 63/68\n173/173 [==============================] - 0s 117us/step - loss: 0.1053 - accuracy: 0.9653\nEpoch 64/68\n173/173 [==============================] - 0s 157us/step - loss: 0.1029 - accuracy: 0.9653\nEpoch 65/68\n173/173 [==============================] - 0s 185us/step - loss: 0.1004 - accuracy: 0.9653\nEpoch 66/68\n173/173 [==============================] - 0s 86us/step - loss: 0.0980 - accuracy: 0.9711\nEpoch 67/68\n173/173 [==============================] - 0s 100us/step - loss: 0.0956 - accuracy: 0.9711\nEpoch 68/68\n173/173 [==============================] - 0s 65us/step - loss: 0.0933 - accuracy: 0.9711\n[[9.99782920e-01]\n [9.99136746e-01]\n [6.23904884e-01]\n [3.87877226e-02]\n [4.36314940e-03]\n [9.25617516e-01]\n [7.91322351e-01]\n [5.28560877e-02]\n [8.10407937e-01]\n [9.94194269e-01]\n [1.51623905e-01]\n [1.39161408e-01]\n [9.99809623e-01]\n [4.87429649e-01]\n [2.13357806e-03]\n [9.84482527e-01]\n [6.63635373e-01]\n [2.72356868e-02]\n [9.92458224e-01]\n [6.78986311e-04]\n [9.57491994e-03]\n [5.10931313e-02]\n [6.71133399e-03]\n [1.44421160e-01]\n [9.99179244e-01]\n [9.91494715e-01]\n [9.82015729e-01]\n [9.48131919e-01]\n [7.72523880e-03]\n [9.99532223e-01]\n [1.03010535e-02]\n [3.30281258e-03]\n [9.96821344e-01]\n [9.99747992e-01]\n [4.00630474e-01]\n [9.99817371e-01]\n [7.43749738e-03]\n [1.71964049e-01]\n [9.95680332e-01]\n [9.80260968e-03]\n [2.65839696e-03]\n [9.99684274e-01]\n [9.99005377e-01]\n [8.78932178e-02]]\n     TARGET\n205       1\n214       1\n138       1\n177       1\n15        0\nAUC: 91.52%\n"
    },
    {
     "output_type": "error",
     "ename": "ValueError",
     "evalue": "Classification metrics can't handle a mix of binary and continuous targets",
     "traceback": [
      "\u001b[0;31m---------------------------------------------------------------------------\u001b[0m",
      "\u001b[0;31mValueError\u001b[0m                                Traceback (most recent call last)",
      "\u001b[0;32m<ipython-input-36-a1184893b21b>\u001b[0m in \u001b[0;36m<module>\u001b[0;34m\u001b[0m\n\u001b[1;32m     12\u001b[0m \u001b[0;34m\u001b[0m\u001b[0m\n\u001b[1;32m     13\u001b[0m \u001b[0mprint\u001b[0m\u001b[0;34m(\u001b[0m\u001b[0;34mf'AUC: {round(roc_auc_score(y_test, y_pred)*100,2)}%'\u001b[0m\u001b[0;34m)\u001b[0m\u001b[0;34m\u001b[0m\u001b[0;34m\u001b[0m\u001b[0m\n\u001b[0;32m---> 14\u001b[0;31m \u001b[0mprint\u001b[0m\u001b[0;34m(\u001b[0m\u001b[0;34mf'ACC: {round(accuracy_score(y_test, y_pred)*100,2)}%'\u001b[0m\u001b[0;34m)\u001b[0m\u001b[0;34m\u001b[0m\u001b[0;34m\u001b[0m\u001b[0m\n\u001b[0m\u001b[1;32m     15\u001b[0m \u001b[0;31m#accuracy_score(y_pred, y_test)\u001b[0m\u001b[0;34m\u001b[0m\u001b[0;34m\u001b[0m\u001b[0;34m\u001b[0m\u001b[0m\n\u001b[1;32m     16\u001b[0m \u001b[0;31m#recall_score(y_test,y_pred)\u001b[0m\u001b[0;34m\u001b[0m\u001b[0;34m\u001b[0m\u001b[0;34m\u001b[0m\u001b[0m\n",
      "\u001b[0;32m~/anaconda3/lib/python3.7/site-packages/sklearn/metrics/_classification.py\u001b[0m in \u001b[0;36maccuracy_score\u001b[0;34m(y_true, y_pred, normalize, sample_weight)\u001b[0m\n\u001b[1;32m    183\u001b[0m \u001b[0;34m\u001b[0m\u001b[0m\n\u001b[1;32m    184\u001b[0m     \u001b[0;31m# Compute accuracy for each possible representation\u001b[0m\u001b[0;34m\u001b[0m\u001b[0;34m\u001b[0m\u001b[0;34m\u001b[0m\u001b[0m\n\u001b[0;32m--> 185\u001b[0;31m     \u001b[0my_type\u001b[0m\u001b[0;34m,\u001b[0m \u001b[0my_true\u001b[0m\u001b[0;34m,\u001b[0m \u001b[0my_pred\u001b[0m \u001b[0;34m=\u001b[0m \u001b[0m_check_targets\u001b[0m\u001b[0;34m(\u001b[0m\u001b[0my_true\u001b[0m\u001b[0;34m,\u001b[0m \u001b[0my_pred\u001b[0m\u001b[0;34m)\u001b[0m\u001b[0;34m\u001b[0m\u001b[0;34m\u001b[0m\u001b[0m\n\u001b[0m\u001b[1;32m    186\u001b[0m     \u001b[0mcheck_consistent_length\u001b[0m\u001b[0;34m(\u001b[0m\u001b[0my_true\u001b[0m\u001b[0;34m,\u001b[0m \u001b[0my_pred\u001b[0m\u001b[0;34m,\u001b[0m \u001b[0msample_weight\u001b[0m\u001b[0;34m)\u001b[0m\u001b[0;34m\u001b[0m\u001b[0;34m\u001b[0m\u001b[0m\n\u001b[1;32m    187\u001b[0m     \u001b[0;32mif\u001b[0m \u001b[0my_type\u001b[0m\u001b[0;34m.\u001b[0m\u001b[0mstartswith\u001b[0m\u001b[0;34m(\u001b[0m\u001b[0;34m'multilabel'\u001b[0m\u001b[0;34m)\u001b[0m\u001b[0;34m:\u001b[0m\u001b[0;34m\u001b[0m\u001b[0;34m\u001b[0m\u001b[0m\n",
      "\u001b[0;32m~/anaconda3/lib/python3.7/site-packages/sklearn/metrics/_classification.py\u001b[0m in \u001b[0;36m_check_targets\u001b[0;34m(y_true, y_pred)\u001b[0m\n\u001b[1;32m     88\u001b[0m     \u001b[0;32mif\u001b[0m \u001b[0mlen\u001b[0m\u001b[0;34m(\u001b[0m\u001b[0my_type\u001b[0m\u001b[0;34m)\u001b[0m \u001b[0;34m>\u001b[0m \u001b[0;36m1\u001b[0m\u001b[0;34m:\u001b[0m\u001b[0;34m\u001b[0m\u001b[0;34m\u001b[0m\u001b[0m\n\u001b[1;32m     89\u001b[0m         raise ValueError(\"Classification metrics can't handle a mix of {0} \"\n\u001b[0;32m---> 90\u001b[0;31m                          \"and {1} targets\".format(type_true, type_pred))\n\u001b[0m\u001b[1;32m     91\u001b[0m \u001b[0;34m\u001b[0m\u001b[0m\n\u001b[1;32m     92\u001b[0m     \u001b[0;31m# We can't have more than one value on y_type => The set is no more needed\u001b[0m\u001b[0;34m\u001b[0m\u001b[0;34m\u001b[0m\u001b[0;34m\u001b[0m\u001b[0m\n",
      "\u001b[0;31mValueError\u001b[0m: Classification metrics can't handle a mix of binary and continuous targets"
     ]
    }
   ],
   "source": [
    "# Execução da Rede Neural\n",
    "model.fit(X_train, y_train, epochs=68, batch_size=173, verbose=1)\n",
    "y_pred = model.predict(X_test)\n",
    "\n",
    "print(y_pred)\n",
    "print(y_test[:5])\n",
    "\n",
    "\n",
    "\n",
    "#print(roc_auc_score(y_test, y_pred))\n",
    "\n",
    "\n",
    "print(f'AUC: {round(roc_auc_score(y_test, y_pred)*100,2)}%')\n",
    "print(f'ACC: {round(accuracy_score(y_test, y_pred)*100,2)}%')\n",
    "#accuracy_score(y_pred, y_test)\n",
    "#recall_score(y_test,y_pred)\n",
    "#precision_score(y_test,y_pred)"
   ]
  },
  {
   "cell_type": "code",
   "execution_count": null,
   "metadata": {},
   "outputs": [],
   "source": []
  }
 ],
 "metadata": {
  "kernelspec": {
   "display_name": "Python 3",
   "language": "python",
   "name": "python3"
  },
  "language_info": {
   "codemirror_mode": {
    "name": "ipython",
    "version": 3
   },
   "file_extension": ".py",
   "mimetype": "text/x-python",
   "name": "python",
   "nbconvert_exporter": "python",
   "pygments_lexer": "ipython3",
   "version": "3.7.6-final"
  }
 },
 "nbformat": 4,
 "nbformat_minor": 4
}