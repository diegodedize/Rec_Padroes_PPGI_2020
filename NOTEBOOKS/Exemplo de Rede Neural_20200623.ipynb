{
 "cells": [
  {
   "cell_type": "code",
   "execution_count": 2,
   "metadata": {},
   "outputs": [
    {
     "name": "stderr",
     "output_type": "stream",
     "text": [
      "Using Theano backend.\n",
      "WARNING (theano.configdefaults): g++ not available, if using conda: `conda install m2w64-toolchain`\n",
      "C:\\ProgramData\\Anaconda3\\lib\\site-packages\\theano\\configdefaults.py:560: UserWarning: DeprecationWarning: there is no c++ compiler.This is deprecated and with Theano 0.11 a c++ compiler will be mandatory\n",
      "  warnings.warn(\"DeprecationWarning: there is no c++ compiler.\"\n",
      "WARNING (theano.configdefaults): g++ not detected ! Theano will be unable to execute optimized C-implementations (for both CPU and GPU) and will default to Python implementations. Performance will be severely degraded. To remove this warning, set Theano flags cxx to an empty string.\n",
      "WARNING (theano.tensor.blas): Using NumPy C-API based implementation for BLAS functions.\n"
     ]
    }
   ],
   "source": [
    "# Importação de Bibliotecas\n",
    "import pandas as pd\n",
    "import numpy as np\n",
    "\n",
    "from sklearn.model_selection import train_test_split\n",
    "from sklearn.preprocessing import StandardScaler\n",
    "\n",
    "from tensorflow import keras\n",
    "from keras.models import Sequential\n",
    "from keras.layers import Dense\n",
    "import keras\n"
   ]
  },
  {
   "cell_type": "code",
   "execution_count": 3,
   "metadata": {},
   "outputs": [],
   "source": [
    "# Leitura e tratamento do arquivo\n",
    "df = pd.read_csv('df_final_20200510.csv')\n",
    "mascara = df['TARGET'] == 2\n",
    "df.loc[mascara, 'TARGET'] = 1"
   ]
  },
  {
   "cell_type": "code",
   "execution_count": 4,
   "metadata": {},
   "outputs": [],
   "source": [
    "# Separação em amostra para treino e teste\n",
    "dfn = df.copy()\n",
    "X = df.iloc[:,:-1]\n",
    "y = df.iloc[:,-1:]\n",
    "\n",
    "X_train, X_test, y_train, y_test = train_test_split(X, y, test_size=0.20, random_state=42)\n",
    "\n",
    "scaler  = StandardScaler().fit(X_train)\n",
    "X_train = scaler.transform(X_train)\n",
    "X_test  = scaler.transform(X_test)"
   ]
  },
  {
   "cell_type": "code",
   "execution_count": 5,
   "metadata": {},
   "outputs": [],
   "source": [
    "# Criação da Rede Neural\n",
    "model = Sequential()\n",
    "\n",
    "model.add(Dense(328, activation=None, input_shape=(328,)))\n",
    "model.add(Dense(18, activation='tanh'))       # Camada Escondida: 18 neurônios (raiz da qtde de característica) e \n",
    "model.add(Dense(1, activation='sigmoid'))    # Camada de Saída: 1 neurônio e o sigmóide de ativação\n",
    "\n",
    "opt = keras.optimizers.Adam(learning_rate=0.01)\n",
    "model.compile(loss='binary_crossentropy',\n",
    "              optimizer=opt,\n",
    "              metrics=['accuracy'])"
   ]
  },
  {
   "cell_type": "code",
   "execution_count": 6,
   "metadata": {},
   "outputs": [
    {
     "name": "stdout",
     "output_type": "stream",
     "text": [
      "Epoch 1/20\n",
      "173/173 [==============================] - 10s 56ms/step - loss: 0.9961 - accuracy: 0.4798\n",
      "Epoch 2/20\n",
      "173/173 [==============================] - 10s 57ms/step - loss: 0.7899 - accuracy: 0.7688\n",
      "Epoch 3/20\n",
      "173/173 [==============================] - 11s 64ms/step - loss: 0.5414 - accuracy: 0.7688\n",
      "Epoch 4/20\n",
      "173/173 [==============================] - 10s 56ms/step - loss: 0.4002 - accuracy: 0.8208\n",
      "Epoch 5/20\n",
      "173/173 [==============================] - 9s 54ms/step - loss: 0.3385 - accuracy: 0.8671\n",
      "Epoch 6/20\n",
      "173/173 [==============================] - 9s 52ms/step - loss: 0.3146 - accuracy: 0.9017\n",
      "Epoch 7/20\n",
      "173/173 [==============================] - 9s 54ms/step - loss: 0.2924 - accuracy: 0.8844\n",
      "Epoch 8/20\n",
      "173/173 [==============================] - 9s 53ms/step - loss: 0.2598 - accuracy: 0.8902\n",
      "Epoch 9/20\n",
      "173/173 [==============================] - 9s 53ms/step - loss: 0.2301 - accuracy: 0.9075\n",
      "Epoch 10/20\n",
      "173/173 [==============================] - 9s 53ms/step - loss: 0.2032 - accuracy: 0.9133\n",
      "Epoch 11/20\n",
      "173/173 [==============================] - 9s 54ms/step - loss: 0.1877 - accuracy: 0.9249\n",
      "Epoch 12/20\n",
      "173/173 [==============================] - 9s 52ms/step - loss: 0.1783 - accuracy: 0.9249\n",
      "Epoch 13/20\n",
      "173/173 [==============================] - 9s 53ms/step - loss: 0.1659 - accuracy: 0.9249\n",
      "Epoch 14/20\n",
      "173/173 [==============================] - 9s 53ms/step - loss: 0.1518 - accuracy: 0.9249\n",
      "Epoch 15/20\n",
      "173/173 [==============================] - 9s 53ms/step - loss: 0.1412 - accuracy: 0.9480\n",
      "Epoch 16/20\n",
      "173/173 [==============================] - 9s 53ms/step - loss: 0.1306 - accuracy: 0.9653\n",
      "Epoch 17/20\n",
      "173/173 [==============================] - 9s 54ms/step - loss: 0.1214 - accuracy: 0.9653\n",
      "Epoch 18/20\n",
      "173/173 [==============================] - 9s 52ms/step - loss: 0.1160 - accuracy: 0.9769\n",
      "Epoch 19/20\n",
      "173/173 [==============================] - 9s 51ms/step - loss: 0.1107 - accuracy: 0.9769\n",
      "Epoch 20/20\n",
      "173/173 [==============================] - 9s 52ms/step - loss: 0.1038 - accuracy: 0.9769\n",
      "[[0.99766594]\n",
      " [0.98257047]\n",
      " [0.8673011 ]\n",
      " [0.9911335 ]\n",
      " [0.0263463 ]\n",
      " [0.24122818]\n",
      " [0.76159495]\n",
      " [0.00381793]\n",
      " [0.9555856 ]\n",
      " [0.9736891 ]\n",
      " [0.98679596]\n",
      " [0.13562717]\n",
      " [0.9677337 ]\n",
      " [0.48535204]\n",
      " [0.02409155]\n",
      " [0.6824596 ]\n",
      " [0.98681456]\n",
      " [0.70353836]\n",
      " [0.649819  ]\n",
      " [0.00165216]\n",
      " [0.04105586]\n",
      " [0.6664543 ]\n",
      " [0.8508333 ]\n",
      " [0.04178324]\n",
      " [0.9739605 ]\n",
      " [0.95870644]\n",
      " [0.9703686 ]\n",
      " [0.53557885]\n",
      " [0.02206439]\n",
      " [0.98610634]\n",
      " [0.9037035 ]\n",
      " [0.00164273]\n",
      " [0.98790085]\n",
      " [0.98683876]\n",
      " [0.7335347 ]\n",
      " [0.98417985]\n",
      " [0.53421444]\n",
      " [0.24990253]\n",
      " [0.7923284 ]\n",
      " [0.1769237 ]\n",
      " [0.01879898]\n",
      " [0.99689347]\n",
      " [0.9960724 ]\n",
      " [0.05571683]]\n",
      "     TARGET\n",
      "205       1\n",
      "214       1\n",
      "138       1\n",
      "177       1\n",
      "15        0\n"
     ]
    }
   ],
   "source": [
    "# Execução da Rede Neural\n",
    "model.fit(X_train, y_train, epochs=20, batch_size=173, verbose=1)\n",
    "y_pred = model.predict(X_test)\n",
    "\n",
    "print(y_pred)\n",
    "print(y_test[:5])"
   ]
  }
 ],
 "metadata": {
  "kernelspec": {
   "display_name": "Python 3",
   "language": "python",
   "name": "python3"
  },
  "language_info": {
   "codemirror_mode": {
    "name": "ipython",
    "version": 3
   },
   "file_extension": ".py",
   "mimetype": "text/x-python",
   "name": "python",
   "nbconvert_exporter": "python",
   "pygments_lexer": "ipython3",
   "version": "3.7.6"
  }
 },
 "nbformat": 4,
 "nbformat_minor": 4
}
