{
 "cells": [
  {
   "cell_type": "markdown",
   "metadata": {},
   "source": [
    "# USP - EACH - Reconhecimento de Padrões - Março de 2020\n",
    "## Grupo H/8 - Atividade 03\n",
    "## Tratamento do Arquivo Total SPHARM\n",
    "- Ajuste do identificador da linha (paciente) - Primeira Coluna\n",
    "- Ajuste na quantidade de colunas - 714 colunas\n",
    "- Inclusão da Coluna Target (Variável Dependente) - Última Coluna\n",
    "    0 - Sem Anomalias - até a linha 101\n",
    "    1 - Hipertróficos - da 102 até a linha 284\n",
    "    2 - Dilatados - a partir da linha 285 inclusive"
   ]
  },
  {
   "cell_type": "code",
   "execution_count": null,
   "metadata": {},
   "outputs": [],
   "source": [
    "#Verificando se a gravação foi ok\n",
    "import numpy as np\n",
    "import pandas as pd\n",
    "import seaborn as sns\n",
    "import matplotlib.pyplot as plt\n",
    "dx = pd.read_csv('Total_SPHARM_20200326.csv', header=None)\n",
    "dx"
   ]
  },
  {
   "cell_type": "code",
   "execution_count": null,
   "metadata": {},
   "outputs": [],
   "source": []
  },
  {
   "cell_type": "code",
   "execution_count": null,
   "metadata": {},
   "outputs": [],
   "source": []
  },
  {
   "cell_type": "code",
   "execution_count": null,
   "metadata": {},
   "outputs": [],
   "source": []
  },
  {
   "cell_type": "code",
   "execution_count": null,
   "metadata": {},
   "outputs": [],
   "source": []
  }
 ],
 "metadata": {
  "kernelspec": {
   "display_name": "Python 3",
   "language": "python",
   "name": "python3"
  },
  "language_info": {
   "codemirror_mode": {
    "name": "ipython",
    "version": 3
   },
   "file_extension": ".py",
   "mimetype": "text/x-python",
   "name": "python",
   "nbconvert_exporter": "python",
   "pygments_lexer": "ipython3",
   "version": "3.7.3"
  }
 },
 "nbformat": 4,
 "nbformat_minor": 2
}
