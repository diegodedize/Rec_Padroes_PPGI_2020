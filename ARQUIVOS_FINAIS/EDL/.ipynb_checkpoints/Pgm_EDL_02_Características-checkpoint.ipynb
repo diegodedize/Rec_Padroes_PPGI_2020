{
 "cells": [
  {
   "cell_type": "markdown",
   "metadata": {},
   "source": [
    "# USP - EACH - Reconhecimento de Padrões - Abril de 2020\n",
    "\n",
    "### CLASSIFICAÇÃO DE MODELOS CARDÍACOS TRIDIMENSIONAIS RELACIONADA À PRESENÇA OU À AUSÊNCIA DE CARDIOMIOPATIA\n",
    "\n",
    "## Grupo 08/H"
   ]
  },
  {
   "cell_type": "markdown",
   "metadata": {},
   "source": [
    "## Seleção de Características\n",
    "### Arquivo de Entrada: EDLEndo_20200414.csv\n",
    "\n",
    "#### Descrição\n",
    "##### Inclusão da coluna Target (Variável dependente Alvo)\n",
    "-- Última Coluna \n",
    "- 0 - Sem Anomalias - até a linha 101 \n",
    "- 1 - Hipertróficos - da 102 até a linha 284 \n",
    "- 2 - Dilatados - a partir da linha 285 inclusive\n",
    "\n",
    "#### Nesta atividade vamos aplicar algumas técnicas de classificação de features (características) com objetivo de\n",
    "#### escolher quais poderiam ser consideradas para treinamentos dos modelos e teste.\n",
    "\n",
    "<br>==================================================================================================================</br>\n"
   ]
  },
  {
   "cell_type": "code",
   "execution_count": 1,
   "metadata": {},
   "outputs": [],
   "source": [
    "import numpy as np\n",
    "import pandas as pd\n",
    "import seaborn as sns\n",
    "import matplotlib.pyplot as plt\n",
    "from sklearn.model_selection import train_test_split\n",
    "from sklearn.ensemble import RandomForestClassifier\n",
    "from sklearn.feature_selection import chi2\n",
    "from sklearn.feature_selection import SelectKBest, SelectPercentile\n",
    "from sklearn.svm import LinearSVC\n",
    "from sklearn.feature_selection import RFE"
   ]
  },
  {
   "cell_type": "code",
   "execution_count": 6,
   "metadata": {},
   "outputs": [
    {
     "name": "stdout",
     "output_type": "stream",
     "text": [
      "****************************\n",
      "**** Dados do DataFrame ****\n",
      "****************************\n",
      "Linhas e Colunas: (400, 9)\n",
      "\n",
      "**** Informações Gerais ****\n",
      "<class 'pandas.core.frame.DataFrame'>\n",
      "RangeIndex: 400 entries, 0 to 399\n",
      "Data columns (total 9 columns):\n",
      "0    400 non-null object\n",
      "1    400 non-null float64\n",
      "2    400 non-null float64\n",
      "3    400 non-null float64\n",
      "4    400 non-null float64\n",
      "5    400 non-null float64\n",
      "6    400 non-null float64\n",
      "7    400 non-null float64\n",
      "8    400 non-null float64\n",
      "dtypes: float64(8), object(1)\n",
      "memory usage: 28.2+ KB\n",
      "None\n",
      "\n",
      "**** Primeiras 5 amostras ****\n",
      "       0     1    2      3    4     5    6      7    8\n",
      "0  id001   0.0  0.0   21.6  0.0  15.9  0.0  168.1  0.0\n",
      "1  id002  16.1  0.0  133.0  0.0   0.0  0.0    0.0  0.0\n",
      "2  id003  33.4  0.0   84.4  0.0   0.0  0.0   44.5  0.0\n",
      "3  id004   0.0  0.0   17.4  0.0   0.0  0.0  131.7  0.0\n",
      "4  id005   2.7  0.0  115.0  0.0   0.0  0.0   11.7  0.0\n",
      "\n",
      "****Últimas 5 amostras ****\n",
      "         0     1    2      3    4     5    6      7    8\n",
      "395  id396   0.0  0.0   10.0  0.0  24.0  0.0   95.6  0.0\n",
      "396  id397   0.0  0.0   83.4  0.0   0.0  0.0  182.8  0.0\n",
      "397  id398  13.2  0.0   53.6  0.0  12.1  0.0   78.4  0.0\n",
      "398  id399   2.0  0.0   23.6  0.0  24.0  0.0  220.8  0.0\n",
      "399  id400  24.5  0.0  106.7  0.0  30.9  0.0  119.1  0.0\n",
      "\n"
     ]
    }
   ],
   "source": [
    "# Abertura e informações da Base de Dados\n",
    "\n",
    "df = pd.read_csv('EDLEndo_20200414.txt', header=None)\n",
    "\n",
    "print('****************************')\n",
    "print('**** Dados do DataFrame ****')\n",
    "print('****************************')\n",
    "print(f'Linhas e Colunas: {df.shape}')\n",
    "print('\\n**** Informações Gerais ****')\n",
    "print(df.info())\n",
    "print('\\n**** Primeiras 5 amostras ****')\n",
    "print(df.head())\n",
    "print('\\n****Últimas 5 amostras ****')\n",
    "print(df.tail())\n",
    "print()"
   ]
  },
  {
   "cell_type": "code",
   "execution_count": 7,
   "metadata": {},
   "outputs": [
    {
     "name": "stdout",
     "output_type": "stream",
     "text": [
      "****************************\n",
      "**** Dados do DataFrame ****\n",
      "****************************\n",
      "Linhas e Colunas: (400, 10)\n",
      "\n",
      "**** Informações Gerais ****\n",
      "<class 'pandas.core.frame.DataFrame'>\n",
      "RangeIndex: 400 entries, 0 to 399\n",
      "Data columns (total 10 columns):\n",
      "0    400 non-null object\n",
      "1    400 non-null float64\n",
      "2    400 non-null float64\n",
      "3    400 non-null float64\n",
      "4    400 non-null float64\n",
      "5    400 non-null float64\n",
      "6    400 non-null float64\n",
      "7    400 non-null float64\n",
      "8    400 non-null float64\n",
      "9    400 non-null int64\n",
      "dtypes: float64(8), int64(1), object(1)\n",
      "memory usage: 31.3+ KB\n",
      "None\n",
      "\n",
      "**** Primeiras 5 amostras ****\n",
      "       0     1    2      3    4     5    6      7    8  9\n",
      "0  id001   0.0  0.0   21.6  0.0  15.9  0.0  168.1  0.0  0\n",
      "1  id002  16.1  0.0  133.0  0.0   0.0  0.0    0.0  0.0  0\n",
      "2  id003  33.4  0.0   84.4  0.0   0.0  0.0   44.5  0.0  0\n",
      "3  id004   0.0  0.0   17.4  0.0   0.0  0.0  131.7  0.0  0\n",
      "4  id005   2.7  0.0  115.0  0.0   0.0  0.0   11.7  0.0  0\n",
      "\n",
      "****Últimas 5 amostras ****\n",
      "         0     1    2      3    4     5    6      7    8  9\n",
      "395  id396   0.0  0.0   10.0  0.0  24.0  0.0   95.6  0.0  2\n",
      "396  id397   0.0  0.0   83.4  0.0   0.0  0.0  182.8  0.0  2\n",
      "397  id398  13.2  0.0   53.6  0.0  12.1  0.0   78.4  0.0  2\n",
      "398  id399   2.0  0.0   23.6  0.0  24.0  0.0  220.8  0.0  2\n",
      "399  id400  24.5  0.0  106.7  0.0  30.9  0.0  119.1  0.0  2\n",
      "\n"
     ]
    }
   ],
   "source": [
    "# Inclusão da coluna Target (Variável dependente - alvo)\n",
    "df.loc[:, \"TARGET\"] = int(0)\n",
    "df.loc[0:101, \"TARGET\"] = int(0)\n",
    "df.loc[101:284, \"TARGET\"] = int(1)\n",
    "df.loc[284:, \"TARGET\"] = int(2)\n",
    "\n",
    "# Ajuste do nome das colunas\n",
    "df = df.rename(columns={'TARGET':9})\n",
    "\n",
    "print('****************************')\n",
    "print('**** Dados do DataFrame ****')\n",
    "print('****************************')\n",
    "print(f'Linhas e Colunas: {df.shape}')\n",
    "print('\\n**** Informações Gerais ****')\n",
    "print(df.info())\n",
    "print('\\n**** Primeiras 5 amostras ****')\n",
    "print(df.head())\n",
    "print('\\n****Últimas 5 amostras ****')\n",
    "print(df.tail())\n",
    "print()"
   ]
  },
  {
   "cell_type": "markdown",
   "metadata": {},
   "source": [
    "<br>==================================================================================================================</br>\n",
    "## Técnica de Verificação: Filtro"
   ]
  },
  {
   "cell_type": "code",
   "execution_count": 8,
   "metadata": {},
   "outputs": [
    {
     "data": {
      "text/html": [
       "<div>\n",
       "<style scoped>\n",
       "    .dataframe tbody tr th:only-of-type {\n",
       "        vertical-align: middle;\n",
       "    }\n",
       "\n",
       "    .dataframe tbody tr th {\n",
       "        vertical-align: top;\n",
       "    }\n",
       "\n",
       "    .dataframe thead th {\n",
       "        text-align: right;\n",
       "    }\n",
       "</style>\n",
       "<table border=\"1\" class=\"dataframe\">\n",
       "  <thead>\n",
       "    <tr style=\"text-align: right;\">\n",
       "      <th></th>\n",
       "      <th>1</th>\n",
       "      <th>2</th>\n",
       "      <th>3</th>\n",
       "      <th>4</th>\n",
       "      <th>5</th>\n",
       "      <th>6</th>\n",
       "      <th>7</th>\n",
       "      <th>8</th>\n",
       "      <th>9</th>\n",
       "    </tr>\n",
       "  </thead>\n",
       "  <tbody>\n",
       "    <tr>\n",
       "      <th>1</th>\n",
       "      <td>1.000000</td>\n",
       "      <td>0.052613</td>\n",
       "      <td>0.319325</td>\n",
       "      <td>-0.018408</td>\n",
       "      <td>0.122178</td>\n",
       "      <td>0.022132</td>\n",
       "      <td>-0.356322</td>\n",
       "      <td>-0.042302</td>\n",
       "      <td>-0.032442</td>\n",
       "    </tr>\n",
       "    <tr>\n",
       "      <th>2</th>\n",
       "      <td>0.052613</td>\n",
       "      <td>1.000000</td>\n",
       "      <td>-0.028453</td>\n",
       "      <td>0.310846</td>\n",
       "      <td>0.020575</td>\n",
       "      <td>0.549575</td>\n",
       "      <td>-0.077428</td>\n",
       "      <td>0.049225</td>\n",
       "      <td>-0.074215</td>\n",
       "    </tr>\n",
       "    <tr>\n",
       "      <th>3</th>\n",
       "      <td>0.319325</td>\n",
       "      <td>-0.028453</td>\n",
       "      <td>1.000000</td>\n",
       "      <td>0.053482</td>\n",
       "      <td>-0.309896</td>\n",
       "      <td>-0.087779</td>\n",
       "      <td>-0.386949</td>\n",
       "      <td>0.018095</td>\n",
       "      <td>0.011826</td>\n",
       "    </tr>\n",
       "    <tr>\n",
       "      <th>4</th>\n",
       "      <td>-0.018408</td>\n",
       "      <td>0.310846</td>\n",
       "      <td>0.053482</td>\n",
       "      <td>1.000000</td>\n",
       "      <td>-0.065251</td>\n",
       "      <td>0.041152</td>\n",
       "      <td>-0.013696</td>\n",
       "      <td>0.902574</td>\n",
       "      <td>0.042880</td>\n",
       "    </tr>\n",
       "    <tr>\n",
       "      <th>5</th>\n",
       "      <td>0.122178</td>\n",
       "      <td>0.020575</td>\n",
       "      <td>-0.309896</td>\n",
       "      <td>-0.065251</td>\n",
       "      <td>1.000000</td>\n",
       "      <td>0.143829</td>\n",
       "      <td>0.293127</td>\n",
       "      <td>-0.009546</td>\n",
       "      <td>0.135336</td>\n",
       "    </tr>\n",
       "    <tr>\n",
       "      <th>6</th>\n",
       "      <td>0.022132</td>\n",
       "      <td>0.549575</td>\n",
       "      <td>-0.087779</td>\n",
       "      <td>0.041152</td>\n",
       "      <td>0.143829</td>\n",
       "      <td>1.000000</td>\n",
       "      <td>-0.051676</td>\n",
       "      <td>0.042604</td>\n",
       "      <td>-0.021104</td>\n",
       "    </tr>\n",
       "    <tr>\n",
       "      <th>7</th>\n",
       "      <td>-0.356322</td>\n",
       "      <td>-0.077428</td>\n",
       "      <td>-0.386949</td>\n",
       "      <td>-0.013696</td>\n",
       "      <td>0.293127</td>\n",
       "      <td>-0.051676</td>\n",
       "      <td>1.000000</td>\n",
       "      <td>0.038529</td>\n",
       "      <td>0.368067</td>\n",
       "    </tr>\n",
       "    <tr>\n",
       "      <th>8</th>\n",
       "      <td>-0.042302</td>\n",
       "      <td>0.049225</td>\n",
       "      <td>0.018095</td>\n",
       "      <td>0.902574</td>\n",
       "      <td>-0.009546</td>\n",
       "      <td>0.042604</td>\n",
       "      <td>0.038529</td>\n",
       "      <td>1.000000</td>\n",
       "      <td>0.088473</td>\n",
       "    </tr>\n",
       "    <tr>\n",
       "      <th>9</th>\n",
       "      <td>-0.032442</td>\n",
       "      <td>-0.074215</td>\n",
       "      <td>0.011826</td>\n",
       "      <td>0.042880</td>\n",
       "      <td>0.135336</td>\n",
       "      <td>-0.021104</td>\n",
       "      <td>0.368067</td>\n",
       "      <td>0.088473</td>\n",
       "      <td>1.000000</td>\n",
       "    </tr>\n",
       "  </tbody>\n",
       "</table>\n",
       "</div>"
      ],
      "text/plain": [
       "          1         2         3         4         5         6         7  \\\n",
       "1  1.000000  0.052613  0.319325 -0.018408  0.122178  0.022132 -0.356322   \n",
       "2  0.052613  1.000000 -0.028453  0.310846  0.020575  0.549575 -0.077428   \n",
       "3  0.319325 -0.028453  1.000000  0.053482 -0.309896 -0.087779 -0.386949   \n",
       "4 -0.018408  0.310846  0.053482  1.000000 -0.065251  0.041152 -0.013696   \n",
       "5  0.122178  0.020575 -0.309896 -0.065251  1.000000  0.143829  0.293127   \n",
       "6  0.022132  0.549575 -0.087779  0.041152  0.143829  1.000000 -0.051676   \n",
       "7 -0.356322 -0.077428 -0.386949 -0.013696  0.293127 -0.051676  1.000000   \n",
       "8 -0.042302  0.049225  0.018095  0.902574 -0.009546  0.042604  0.038529   \n",
       "9 -0.032442 -0.074215  0.011826  0.042880  0.135336 -0.021104  0.368067   \n",
       "\n",
       "          8         9  \n",
       "1 -0.042302 -0.032442  \n",
       "2  0.049225 -0.074215  \n",
       "3  0.018095  0.011826  \n",
       "4  0.902574  0.042880  \n",
       "5 -0.009546  0.135336  \n",
       "6  0.042604 -0.021104  \n",
       "7  0.038529  0.368067  \n",
       "8  1.000000  0.088473  \n",
       "9  0.088473  1.000000  "
      ]
     },
     "execution_count": 8,
     "metadata": {},
     "output_type": "execute_result"
    }
   ],
   "source": [
    "# Método de correlação entre as variáveis\n",
    "df.corr()"
   ]
  },
  {
   "cell_type": "markdown",
   "metadata": {},
   "source": [
    "####\n",
    "## Análise\n",
    "####\n",
    "#### Aplicando um método de correlação, que compara todas as colunas entre sí, e tem como: correlação total 1.00\n",
    "#### correlação negativa total -1.00 e sem correlação 0.00.\n",
    "#### Este método de correlação é baseado em Pearson, mostrando um relacionamento linear entre as variáveis. \n",
    "#### Se houver um relacionamento não-linear, este método pode não ser uma boa medida.\n",
    "#### Observamos que a correlação entre as características e o Target é positiva em 6 casos e negativa em 3.\n",
    "#### A melhor correlação foi entre a característica 7 e o Target, é positiva e um pouco mais considerável.\n",
    "####"
   ]
  },
  {
   "cell_type": "code",
   "execution_count": 9,
   "metadata": {},
   "outputs": [
    {
     "data": {
      "image/png": "[encoded data removed]",
      "text/plain": [
       "<Figure size 432x288 with 2 Axes>"
      ]
     },
     "metadata": {
      "needs_background": "light"
     },
     "output_type": "display_data"
    }
   ],
   "source": [
    "# Gráfico de Correlação\n",
    "sns.heatmap(df.corr(), annot = True, fmt = '.2f', cmap='Blues')\n",
    "plt.title('Correlação entre variáveis do dataset de Volume')\n",
    "plt.show()"
   ]
  },
  {
   "cell_type": "markdown",
   "metadata": {},
   "source": [
    "### Outra técnica de filtro"
   ]
  },
  {
   "cell_type": "code",
   "execution_count": 15,
   "metadata": {},
   "outputs": [
    {
     "name": "stdout",
     "output_type": "stream",
     "text": [
      "[[ 21.6  15.9 168.1]\n",
      " [133.    0.    0. ]\n",
      " [ 84.4   0.   44.5]\n",
      " [ 17.4   0.  131.7]\n",
      " [115.    0.   11.7]]\n",
      "[ 229.69945498    6.71965835  742.78494225  130.5829631   526.3622589\n",
      "   17.78278427 3793.7145429   279.43130358]\n",
      "[1.32250433e-050 3.47411931e-002 5.08509616e-162 4.40828685e-029\n",
      " 5.03370476e-115 1.37568012e-004 0.00000000e+000 2.10021324e-061]\n"
     ]
    }
   ],
   "source": [
    "# Verificando a importância das features\n",
    "X = df.iloc[:, 1:9]\n",
    "y = df.iloc[:, 9]\n",
    "\n",
    "# Aplicando o selecionador de features\n",
    "model = SelectKBest(chi2, k=3)\n",
    "X_novo = model.fit_transform(X, y)\n",
    "\n",
    "print(X_novo[0:5])\n",
    "print(model.scores_)\n",
    "print(model.pvalues_)"
   ]
  },
  {
   "cell_type": "raw",
   "metadata": {},
   "source": [
    "####\n",
    "#### Aplicando um método, dentro de uma técnica por camada de seleção de features.\n",
    "#### Observamos que a técnica escolheu a feature Massa como a mais considerável.\n",
    "#### De uma maneira análoga a técnica anterior.\n",
    "#### Como o dataset possui apenas 2 features, escolherá aquele que atingiu um melhor score no teste estatístico\n",
    "#### escolhido (chi2). A parte boa do SelectKBest é que ele funciona para problemas de regressão também, \n",
    "#### com testes estatísticos como f_regression e mutual_info_regression. \n",
    "#### A parte ruim é que escolher o número K ideal é difícil. Muitas das vezes, o valor atribuído é bem empírico, \n",
    "#### mas pode-se tentar contornar isso com o uso do SelectPercentile, que irá selecionar X% das melhores features.\n",
    "####"
   ]
  },
  {
   "cell_type": "code",
   "execution_count": 10,
   "metadata": {},
   "outputs": [
    {
     "name": "stdout",
     "output_type": "stream",
     "text": [
      "\n",
      "Modelo chi2: [2789.62062444 7631.27374448] \n",
      "Coluna de dados escolhida:\n",
      " [[110]\n",
      " [126]\n",
      " [157]\n",
      " [107]\n",
      " [ 73]]\n"
     ]
    }
   ],
   "source": [
    "# Verificando a importância das features\n",
    "X = df.iloc[:, 1:3]\n",
    "y = df.iloc[:, 3]\n",
    "\n",
    "# Aplicando o selecionador de features\n",
    "model = SelectPercentile(chi2, percentile=10)\n",
    "X_novo = model.fit_transform(X, y)\n",
    "print('\\nModelo chi2:', model.scores_, '\\nColuna de dados escolhida:\\n', X_novo[0:5])"
   ]
  },
  {
   "cell_type": "markdown",
   "metadata": {},
   "source": [
    "####\n",
    "#### Verificado que o percentual da coluna massa é maior.\n",
    "####"
   ]
  },
  {
   "cell_type": "markdown",
   "metadata": {},
   "source": [
    "<br>==================================================================================================================</br>\n",
    "## Técnica de Verificação: Embutido"
   ]
  },
  {
   "cell_type": "code",
   "execution_count": 6,
   "metadata": {},
   "outputs": [
    {
     "name": "stderr",
     "output_type": "stream",
     "text": [
      "C:\\ProgramData\\Anaconda3\\lib\\site-packages\\sklearn\\ensemble\\forest.py:246: FutureWarning: The default value of n_estimators will change from 10 in version 0.20 to 100 in 0.22.\n",
      "  \"10 in version 0.20 to 100 in 0.22.\", FutureWarning)\n"
     ]
    },
    {
     "data": {
      "text/plain": [
       "array([0.44985559, 0.55014441])"
      ]
     },
     "execution_count": 6,
     "metadata": {},
     "output_type": "execute_result"
    }
   ],
   "source": [
    "# Verificando a importância das features a partir da aplicação de um modelo (Random Forest / Árvores Randômicas)\n",
    "X = df.iloc[:, 1:3]\n",
    "y = df.iloc[:, 3]\n",
    "\n",
    "# Treinando o modelo na base inteira\n",
    "model  = RandomForestClassifier()\n",
    "model.fit(X, y)\n",
    "\n",
    "# Verificando a importância de cada feature\n",
    "model.feature_importances_"
   ]
  },
  {
   "cell_type": "markdown",
   "metadata": {},
   "source": [
    "####\n",
    "## Análise\n",
    "####\n",
    "#### Aplicando um método, dentro de uma técnica embutida de seleção de features, de Árvores Aleatórias,\n",
    "#### utilizamos a própria estruturação do modelo a importância percentual de cada feature no modelo (soma 100%).\n",
    "#### Observamos que a correlação da massa é um pouco maior que a do volume, para este modelo,\n",
    "#### mas, ainda, baixa.\n",
    "####"
   ]
  },
  {
   "cell_type": "code",
   "execution_count": 7,
   "metadata": {},
   "outputs": [
    {
     "data": {
      "text/plain": [
       "Text(0.5, 1.0, 'Importância de cada feature')"
      ]
     },
     "execution_count": 7,
     "metadata": {},
     "output_type": "execute_result"
    },
    {
     "data": {
      "image/png": "[encoded data removed]",
      "text/plain": [
       "<Figure size 1080x360 with 1 Axes>"
      ]
     },
     "metadata": {
      "needs_background": "light"
     },
     "output_type": "display_data"
    }
   ],
   "source": [
    "# Gráfico\n",
    "plt.figure(figsize=(15, 5))\n",
    "importances = pd.Series(data=model.feature_importances_, index=X.columns)\n",
    "sns.barplot(x=importances, y=importances.index, orient='h').set_title('Importância de cada feature')"
   ]
  },
  {
   "cell_type": "markdown",
   "metadata": {},
   "source": [
    "<br>==================================================================================================================</br>\n",
    "## Técnica de Verificação: Wrapper"
   ]
  },
  {
   "cell_type": "markdown",
   "metadata": {},
   "source": [
    "## Aplicando RFE (Recursive Feature Elimination) \n",
    "### Aqui vamos utilizar o modelo LinearSVC que implementa um algoritmo de classificação, \n",
    "### o SVM (máquina de vetores de suporte)."
   ]
  },
  {
   "cell_type": "code",
   "execution_count": 11,
   "metadata": {},
   "outputs": [
    {
     "name": "stderr",
     "output_type": "stream",
     "text": [
      "C:\\ProgramData\\Anaconda3\\lib\\site-packages\\sklearn\\svm\\base.py:931: ConvergenceWarning: Liblinear failed to converge, increase the number of iterations.\n",
      "  \"the number of iterations.\", ConvergenceWarning)\n",
      "C:\\ProgramData\\Anaconda3\\lib\\site-packages\\sklearn\\svm\\base.py:931: ConvergenceWarning: Liblinear failed to converge, increase the number of iterations.\n",
      "  \"the number of iterations.\", ConvergenceWarning)\n"
     ]
    },
    {
     "name": "stdout",
     "output_type": "stream",
     "text": [
      "Com 1.000 interações:  [ True False]\n",
      "Com 1.000 interações:  [1 2]\n"
     ]
    },
    {
     "name": "stderr",
     "output_type": "stream",
     "text": [
      "C:\\ProgramData\\Anaconda3\\lib\\site-packages\\sklearn\\svm\\base.py:931: ConvergenceWarning: Liblinear failed to converge, increase the number of iterations.\n",
      "  \"the number of iterations.\", ConvergenceWarning)\n"
     ]
    },
    {
     "name": "stdout",
     "output_type": "stream",
     "text": [
      "Com 1.000.000 interações:  [False  True]\n",
      "Com 1.000.000 interações:  [2 1]\n"
     ]
    },
    {
     "name": "stderr",
     "output_type": "stream",
     "text": [
      "C:\\ProgramData\\Anaconda3\\lib\\site-packages\\sklearn\\svm\\base.py:931: ConvergenceWarning: Liblinear failed to converge, increase the number of iterations.\n",
      "  \"the number of iterations.\", ConvergenceWarning)\n"
     ]
    }
   ],
   "source": [
    "# Verificando a importância das features a partir da aplicação de um modelo (Random Forest / Árvores Randômicas)\n",
    "X = df.iloc[:, 1:3]\n",
    "y = df.iloc[:, 3]\n",
    "\n",
    "model = LinearSVC(max_iter=1000)\n",
    "mdrf = RFE(model, step=1)\n",
    "Xrf = mdrf.fit(X, y)\n",
    "\n",
    "print('Com 1.000 interações: ', Xrf.support_)\n",
    "print('Com 1.000 interações: ', Xrf.ranking_)\n",
    "\n",
    "model = LinearSVC(max_iter=1000000)\n",
    "mdrf = RFE(model, step=1)\n",
    "Xrf = mdrf.fit(X, y)\n",
    "\n",
    "print('Com 1.000.000 interações: ', Xrf.support_)\n",
    "print('Com 1.000.000 interações: ', Xrf.ranking_)\n"
   ]
  },
  {
   "cell_type": "markdown",
   "metadata": {},
   "source": [
    "####\n",
    "## Análise\n",
    "####\n",
    "#### Os resultados na aplicação do RFE mudam quando aplicamos menos do que 1.000.000 interações.\n",
    "#### Acima disto a feature escolhida é a massa (como nas técnicas anteriores), mas\n",
    "#### abaixo disto a feature mais considerada é volume e não massa.\n",
    "####"
   ]
  },
  {
   "cell_type": "code",
   "execution_count": null,
   "metadata": {},
   "outputs": [],
   "source": []
  }
 ],
 "metadata": {
  "kernelspec": {
   "display_name": "Python 3",
   "language": "python",
   "name": "python3"
  },
  "language_info": {
   "codemirror_mode": {
    "name": "ipython",
    "version": 3
   },
   "file_extension": ".py",
   "mimetype": "text/x-python",
   "name": "python",
   "nbconvert_exporter": "python",
   "pygments_lexer": "ipython3",
   "version": "3.7.3"
  }
 },
 "nbformat": 4,
 "nbformat_minor": 2
}
