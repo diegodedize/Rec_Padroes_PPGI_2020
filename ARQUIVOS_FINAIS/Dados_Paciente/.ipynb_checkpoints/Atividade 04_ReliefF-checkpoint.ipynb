{
 "cells": [
  {
   "cell_type": "code",
   "execution_count": 2,
   "metadata": {},
   "outputs": [],
   "source": [
    "import numpy as np\n",
    "import pandas as pd\n",
    "import seaborn as sns\n",
    "import matplotlib.pyplot as plt\n",
    "from skrebate import ReliefF\n",
    "from sklearn import datasets"
   ]
  },
  {
   "cell_type": "code",
   "execution_count": 3,
   "metadata": {},
   "outputs": [
    {
     "name": "stdout",
     "output_type": "stream",
     "text": [
      "*** Dados do DataFrame ***\n",
      "**************************\n",
      "Linhas e Colunas: (400, 4)\n",
      "\n",
      "<class 'pandas.core.frame.DataFrame'>\n",
      "RangeIndex: 400 entries, 0 to 399\n",
      "Data columns (total 4 columns):\n",
      "0    400 non-null object\n",
      "1    400 non-null int64\n",
      "2    400 non-null int64\n",
      "3    400 non-null int64\n",
      "dtypes: int64(3), object(1)\n",
      "memory usage: 12.6+ KB\n",
      "None\n",
      "\n",
      "       0   1  2  3\n",
      "0  id001  29  1  0\n",
      "1  id002  31  1  0\n",
      "2  id003  27  1  0\n",
      "3  id004  52  1  0\n",
      "4  id005  56  1  0\n",
      "\n",
      "         0   1  2  3\n",
      "395  id396  31  0  2\n",
      "396  id397  70  1  2\n",
      "397  id398  48  0  2\n",
      "398  id399  46  1  2\n",
      "399  id400  46  0  2\n",
      "\n"
     ]
    }
   ],
   "source": [
    "#Abertura do Arquivo\n",
    "df = pd.read_csv('Pacientes_20200414.csv', header=None)\n",
    "\n",
    "print('*** Dados do DataFrame ***')\n",
    "print('**************************')\n",
    "print(f'Linhas e Colunas: {df.shape}')\n",
    "print()\n",
    "print(df.info())\n",
    "print()\n",
    "print(df.head())\n",
    "print()\n",
    "print(df.tail())\n",
    "print()"
   ]
  },
  {
   "cell_type": "code",
   "execution_count": 5,
   "metadata": {},
   "outputs": [
    {
     "name": "stdout",
     "output_type": "stream",
     "text": [
      "[[2 9]\n",
      " [1 5]\n",
      " [3 9]\n",
      " [3 8]\n",
      " [0 6]]\n",
      "--------------\n",
      "(No. of tuples, No. of Columns before ReliefF) : (5, 3)\n",
      "(No. of tuples , No. of Columns after ReliefF) : (5, 2)\n",
      "(No. of tuples, No. of Columns before ReliefF) : (150, 4)\n",
      "(No. of tuples, No. of Columns after ReliefF) : (150, 2)\n"
     ]
    }
   ],
   "source": [
    "#example of 2 class problem\n",
    "data = np.array([[9,2,2],[5,1,0],[9,3,2],[8,3,1],[6,0,0]])\n",
    "target = np.array([0,0,1,1,1])\n",
    "\n",
    "fs = ReliefF(n_neighbors=1, n_features_to_select=2)\n",
    "X_train = fs.fit_transform(data, target)\n",
    "print(X_train)\n",
    "print(\"--------------\")\n",
    "print(\"(No. of tuples, No. of Columns before ReliefF) : \"+str(data.shape)+\n",
    "      \"\\n(No. of tuples , No. of Columns after ReliefF) : \"+str(X_train.shape))\n",
    "\n",
    "\n",
    "#example of multi class problem\n",
    "iris = datasets.load_iris()\n",
    "X = iris.data\n",
    "Y = iris.target\n",
    "\n",
    "fs = ReliefF(n_neighbors=20, n_features_to_select=2)\n",
    "X_train = fs.fit_transform(X, Y)\n",
    "print(\"(No. of tuples, No. of Columns before ReliefF) : \"+str(iris.data.shape)+\n",
    "      \"\\n(No. of tuples, No. of Columns after ReliefF) : \"+str(X_train.shape))\n"
   ]
  },
  {
   "cell_type": "code",
   "execution_count": null,
   "metadata": {},
   "outputs": [],
   "source": []
  },
  {
   "cell_type": "code",
   "execution_count": null,
   "metadata": {},
   "outputs": [],
   "source": []
  },
  {
   "cell_type": "code",
   "execution_count": null,
   "metadata": {},
   "outputs": [],
   "source": []
  }
 ],
 "metadata": {
  "kernelspec": {
   "display_name": "Python 3",
   "language": "python",
   "name": "python3"
  },
  "language_info": {
   "codemirror_mode": {
    "name": "ipython",
    "version": 3
   },
   "file_extension": ".py",
   "mimetype": "text/x-python",
   "name": "python",
   "nbconvert_exporter": "python",
   "pygments_lexer": "ipython3",
   "version": "3.7.3"
  }
 },
 "nbformat": 4,
 "nbformat_minor": 2
}
