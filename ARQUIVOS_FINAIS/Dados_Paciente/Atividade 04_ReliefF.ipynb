{
 "cells": [
  {
   "cell_type": "code",
   "execution_count": 2,
   "metadata": {},
   "outputs": [],
   "source": [
    "import numpy as np\n",
    "import pandas as pd\n",
    "import seaborn as sns\n",
    "import matplotlib.pyplot as plt\n",
    "from skrebate import ReliefF\n",
    "from sklearn import datasets"
   ]
  },
  {
   "cell_type": "code",
   "execution_count": 3,
   "metadata": {},
   "outputs": [
    {
     "name": "stdout",
     "output_type": "stream",
     "text": [
      "*** Dados do DataFrame ***\n",
      "**************************\n",
      "Linhas e Colunas: (400, 4)\n",
      "\n",
      "<class 'pandas.core.frame.DataFrame'>\n",
      "RangeIndex: 400 entries, 0 to 399\n",
      "Data columns (total 4 columns):\n",
      "0    400 non-null object\n",
      "1    400 non-null int64\n",
      "2    400 non-null int64\n",
      "3    400 non-null int64\n",
      "dtypes: int64(3), object(1)\n",
      "memory usage: 12.6+ KB\n",
      "None\n",
      "\n",
      "       0   1  2  3\n",
      "0  id001  29  1  0\n",
      "1  id002  31  1  0\n",
      "2  id003  27  1  0\n",
      "3  id004  52  1  0\n",
      "4  id005  56  1  0\n",
      "\n",
      "         0   1  2  3\n",
      "395  id396  31  0  2\n",
      "396  id397  70  1  2\n",
      "397  id398  48  0  2\n",
      "398  id399  46  1  2\n",
      "399  id400  46  0  2\n",
      "\n"
     ]
    }
   ],
   "source": [
    "#Abertura do Arquivo\n",
    "df = pd.read_csv('Pacientes_20200414.csv', header=None)\n",
    "\n",
    "print('*** Dados do DataFrame ***')\n",
    "print('**************************')\n",
    "print(f'Linhas e Colunas: {df.shape}')\n",
    "print()\n",
    "print(df.info())\n",
    "print()\n",
    "print(df.head())\n",
    "print()\n",
    "print(df.tail())\n",
    "print()"
   ]
  },
  {
   "cell_type": "code",
   "execution_count": 55,
   "metadata": {},
   "outputs": [
    {
     "ename": "SyntaxError",
     "evalue": "invalid syntax (<ipython-input-55-602d368f5fde>, line 2)",
     "output_type": "error",
     "traceback": [
      "\u001b[1;36m  File \u001b[1;32m\"<ipython-input-55-602d368f5fde>\"\u001b[1;36m, line \u001b[1;32m2\u001b[0m\n\u001b[1;33m    dfx = df.iloc[x:x for x in range(len(df))][:]\u001b[0m\n\u001b[1;37m                        ^\u001b[0m\n\u001b[1;31mSyntaxError\u001b[0m\u001b[1;31m:\u001b[0m invalid syntax\n"
     ]
    }
   ],
   "source": [
    "#example of 2 class problem\n",
    "dfx = df.iloc[x:x for x in range(len(df))][:]\n",
    "X = np.array(dfx.iloc[:, 1:3])\n",
    "y = np.array(dfx.iloc[:, 3:])\n",
    "Y = []\n",
    "\n",
    "for i in range(len(y)):\n",
    "    Y.append(y[i][0])\n",
    "y1 = np.array(Y)\n",
    "\n",
    "\n",
    "rf = ReliefF(n_neighbors=20, n_features_to_select=3)\n",
    "X_train = rf.fit_transform(X, y1)\n",
    "#print(X_train)\n",
    "#print(\"--------------\")\n",
    "#print(\"(No. of tuples, No. of Columns before ReliefF) : \"+str(data.shape)+\n",
    "#      \"\\n(No. of tuples , No. of Columns after ReliefF) : \"+str(X_train.shape))\n",
    "     "
   ]
  },
  {
   "cell_type": "code",
   "execution_count": 46,
   "metadata": {},
   "outputs": [
    {
     "name": "stdout",
     "output_type": "stream",
     "text": [
      "[0 0 0 0 0 0 0 0 0 0 0 0 0 0 0 0 0 0 0 0 0 0 0 0 0 0 0 0 0 0 0 0 0 0 0 0 0\n",
      " 0 0 0 0 0 0 0 0 0 0 0 0 0 1 1 1 1 1 1 1 1 1 1 1 1 1 1 1 1 1 1 1 1 1 1 1 1\n",
      " 1 1 1 1 1 1 1 1 1 1 1 1 1 1 1 1 1 1 1 1 1 1 1 1 1 1 2 2 2 2 2 2 2 2 2 2 2\n",
      " 2 2 2 2 2 2 2 2 2 2 2 2 2 2 2 2 2 2 2 2 2 2 2 2 2 2 2 2 2 2 2 2 2 2 2 2 2\n",
      " 2 2]\n",
      "(No. of tuples, No. of Columns before ReliefF) : (150, 4)\n",
      "(No. of tuples, No. of Columns after ReliefF) : (150, 2)\n",
      "<class 'numpy.ndarray'>\n"
     ]
    }
   ],
   "source": [
    "iris = datasets.load_iris()\n",
    "X = iris.data\n",
    "Y = iris.target\n",
    "print(Y)\n",
    "fs = ReliefF(n_neighbors=20, n_features_to_select=2)\n",
    "X_train = fs.fit_transform(X, Y)\n",
    "print(\"(No. of tuples, No. of Columns before ReliefF) : \"+str(iris.data.shape)+\n",
    "      \"\\n(No. of tuples, No. of Columns after ReliefF) : \"+str(X_train.shape))\n",
    "print(type(Y))"
   ]
  },
  {
   "cell_type": "code",
   "execution_count": null,
   "metadata": {},
   "outputs": [],
   "source": []
  },
  {
   "cell_type": "code",
   "execution_count": null,
   "metadata": {},
   "outputs": [],
   "source": []
  }
 ],
 "metadata": {
  "kernelspec": {
   "display_name": "Python 3",
   "language": "python",
   "name": "python3"
  },
  "language_info": {
   "codemirror_mode": {
    "name": "ipython",
    "version": 3
   },
   "file_extension": ".py",
   "mimetype": "text/x-python",
   "name": "python",
   "nbconvert_exporter": "python",
   "pygments_lexer": "ipython3",
   "version": "3.7.3"
  }
 },
 "nbformat": 4,
 "nbformat_minor": 2
}
